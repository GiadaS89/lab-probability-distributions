{
 "cells": [
  {
   "cell_type": "markdown",
   "metadata": {},
   "source": [
    "# Before your start:\n",
    "\n",
    "    Read the README.md file\n",
    "    Comment as much as you can and use the resources (README.md file)\n",
    "    Happy learning!"
   ]
  },
  {
   "cell_type": "markdown",
   "metadata": {},
   "source": [
    "In this exercise, we  will generate random numbers from the continuous disributions we learned in the lesson. There are two ways to generate random numbers:\n",
    "\n",
    "1. Using the numpy library \n",
    "1. using the Scipy library \n",
    "\n",
    "Use either or both of the lbraries in this exercise."
   ]
  },
  {
   "cell_type": "code",
   "execution_count": 1,
   "metadata": {},
   "outputs": [],
   "source": [
    "import numpy as np\n",
    "import pandas as pd\n",
    "import matplotlib.pyplot as plt\n",
    "import random\n",
    "import math\n",
    "\n",
    "# Discrete distributions\n",
    "from scipy.stats import bernoulli\n",
    "from scipy.stats import binom\n",
    "from scipy.stats import geom\n",
    "from scipy.stats import poisson\n",
    "\n",
    "# Continous distributions\n",
    "from scipy.stats import uniform\n",
    "from scipy.stats import expon\n",
    "from scipy.stats import norm"
   ]
  },
  {
   "cell_type": "markdown",
   "metadata": {},
   "source": [
    "## Uniform Distribution\n",
    "\n",
    "#### Recap: The uniform distribution is rectangular-shaped, which means every value in the distribution is equally likely to occur.\n",
    "\n",
    "To generate uniform random numbers between any two given values using scipy, we can either use the following code or the code that we have\n",
    "discussed in class:"
   ]
  },
  {
   "cell_type": "code",
   "execution_count": 2,
   "metadata": {},
   "outputs": [
    {
     "name": "stdout",
     "output_type": "stream",
     "text": [
      "[2.86470896 2.93390165 2.3364149  2.30513217 2.86933953 2.42948316\n",
      " 2.11974193 2.21404838 2.65966917 2.99670628]\n"
     ]
    }
   ],
   "source": [
    "from scipy.stats import uniform\n",
    "x = uniform.rvs(size=10)\n",
    "\n",
    "a = 2\n",
    "b = 3\n",
    "\n",
    "randoms  = a + (b-a)*x\n",
    "print(randoms)"
   ]
  },
  {
   "cell_type": "code",
   "execution_count": 7,
   "metadata": {},
   "outputs": [
    {
     "data": {
      "text/plain": [
       "2.1197419331731386"
      ]
     },
     "execution_count": 7,
     "metadata": {},
     "output_type": "execute_result"
    }
   ],
   "source": [
    "bottom = randoms.min()\n",
    "bottom"
   ]
  },
  {
   "cell_type": "code",
   "execution_count": 8,
   "metadata": {},
   "outputs": [
    {
     "data": {
      "text/plain": [
       "2.9967062826543445"
      ]
     },
     "execution_count": 8,
     "metadata": {},
     "output_type": "execute_result"
    }
   ],
   "source": [
    "ceiling = randoms.max()\n",
    "ceiling"
   ]
  },
  {
   "cell_type": "code",
   "execution_count": 9,
   "metadata": {},
   "outputs": [
    {
     "data": {
      "text/plain": [
       "10"
      ]
     },
     "execution_count": 9,
     "metadata": {},
     "output_type": "execute_result"
    }
   ],
   "source": [
    "count = len(randoms)\n",
    "count"
   ]
  },
  {
   "cell_type": "markdown",
   "metadata": {},
   "source": [
    "**Your task:**\n",
    "\n",
    "1. Based on the code above, write a function that generates uniformly distributed random numbers. There are several requirements for your function:\n",
    "    * It should accept 3 parameters: \n",
    "        * `bottom` - the lower boundary of the generated numbers\n",
    "        * `ceiling` - the upper boundary of the generated numbers\n",
    "        * `count` - how many numbers to generate\n",
    "    * It should return an array of uniformly distributed random numbers\n",
    "\n",
    "1. Call your function with 2 sets of params below:\n",
    "    * bottom=10, ceiling=15, count=100\n",
    "    * bottom=10, ceiling=60, count=1,000\n",
    "\n",
    "1. Plot the uniform distributions generated above using histograms, where x axis is the value and y axis is the count. Let the histogram's number of bins be 10.\n",
    "\n",
    "Your output should look like below:\n",
    "\n",
    "![uniform distribution](ud.png)"
   ]
  },
  {
   "cell_type": "code",
   "execution_count": 52,
   "metadata": {},
   "outputs": [],
   "source": [
    "# The uniform distribution formula is:\n",
    "# x = np.linspace(a, b-a, count)\n",
    "\n",
    "## Create a generic function which considers the 3 parameters, bottom, ceiling and count, and which returns the x_values\n",
    "\n",
    "def uniform_dist(bottom, ceiling, count):\n",
    "\n",
    "    # a is our bottom\n",
    "    # b is our ceiling\n",
    "    # count is count\n",
    "\n",
    "    uniform_dist = uniform(bottom, ceiling-bottom)\n",
    "    x_values = uniform_dist.rvs(count)\n",
    "\n",
    "    return(x_values)"
   ]
  },
  {
   "cell_type": "code",
   "execution_count": 53,
   "metadata": {},
   "outputs": [
    {
     "data": {
      "image/png": "[encoded data removed]",
      "text/plain": [
       "<Figure size 432x288 with 1 Axes>"
      ]
     },
     "metadata": {
      "needs_background": "light"
     },
     "output_type": "display_data"
    }
   ],
   "source": [
    "# Return the function 'uniform_dist' with bottom=10, ceiling=50, count=100\n",
    "\n",
    "uniform_dist_1 = uniform_dist(10, 15, 100)\n",
    "uniform_dist_1\n",
    "\n",
    "plt.hist(uniform_dist_1)\n",
    "plt.show()"
   ]
  },
  {
   "cell_type": "code",
   "execution_count": 54,
   "metadata": {},
   "outputs": [
    {
     "data": {
      "image/png": "[encoded data removed]",
      "text/plain": [
       "<Figure size 432x288 with 1 Axes>"
      ]
     },
     "metadata": {
      "needs_background": "light"
     },
     "output_type": "display_data"
    }
   ],
   "source": [
    "# Return the function 'uniform_dist' with bottom=10, ceiling=60, count=1000\n",
    "\n",
    "uniform_dist_2 = uniform_dist(10, 60, 1000)\n",
    "uniform_dist_2\n",
    "\n",
    "plt.hist(uniform_dist_2)\n",
    "plt.show()"
   ]
  },
  {
   "cell_type": "code",
   "execution_count": 57,
   "metadata": {},
   "outputs": [
    {
     "data": {
      "image/png": "[encoded data removed]",
      "text/plain": [
       "<Figure size 432x288 with 2 Axes>"
      ]
     },
     "metadata": {
      "needs_background": "light"
     },
     "output_type": "display_data"
    }
   ],
   "source": [
    "# Create a subplot of 2 columns and 1 row in order to plot 2 charts \n",
    "\n",
    "fig,ax = plt.subplots(ncols=2)\n",
    "\n",
    "x = uniform_dist_1\n",
    "ax[0].hist(x, bins=20)\n",
    "\n",
    "y = uniform_dist_2\n",
    "ax[1].hist(y, bins=20)\n",
    "\n",
    "plt.show()"
   ]
  },
  {
   "cell_type": "markdown",
   "metadata": {},
   "source": [
    "How are the two distributions different?"
   ]
  },
  {
   "cell_type": "markdown",
   "metadata": {},
   "source": [
    "#### Comments: \n",
    "\n",
    "- The uniform distribution is used to model scenarios where each potential outcome is equally likely. \n",
    "- A classic example is rolling a die. If you roll a die one time, the probability that it falls on a number between 1 and 6 follows a uniform distribution because each number is equally likely to occur.\n",
    "- Therefore, the probability that either scenarios or variables occur is equally likely. "
   ]
  },
  {
   "cell_type": "markdown",
   "metadata": {},
   "source": [
    "## Normal Distribution\n",
    "\n",
    "1. In the same way in the Uniform Distribution challenge, write a function that generates normally distributed random numbers.\n",
    "1. Generate 1,000 normally distributed numbers with the average of 10 and standard deviation of 1\n",
    "1. Generate 1,000 normally distributed numbers with the average of 10 and standard deviation of 50\n",
    "2. Plot the distributions of the data generated.\n",
    "\n",
    "Expected output:\n",
    "\n",
    "![normal distribution](nd.png)\n",
    "\n",
    "### Recap:\n",
    "Normal distribution, also known as the Gaussian distribution, is a probability distribution that is symmetric about the mean, showing that data near the mean are more frequent in occurrence than data far from the mean."
   ]
  },
  {
   "cell_type": "code",
   "execution_count": 20,
   "metadata": {},
   "outputs": [],
   "source": [
    "# The normal distribution formula is:\n",
    "# x = mu + sigma * count\n",
    "\n",
    "def normal_random(mu, sigma, count):\n",
    "\n",
    "    # mu is our mean\n",
    "    # sigma is our standard deviation\n",
    "    # count is our count\n",
    "\n",
    "    x = mu + sigma * np.random.randn(count)\n",
    "    return x\n"
   ]
  },
  {
   "cell_type": "code",
   "execution_count": 21,
   "metadata": {},
   "outputs": [
    {
     "data": {
      "text/plain": [
       "array([10.16259447,  8.79774525, 10.67094391,  8.58154202,  9.97951727,\n",
       "        7.90095747, 11.60361898,  9.81627574, 11.39774943, 10.19084025,\n",
       "        9.02788738,  8.49425528,  9.62995251, 10.26129293,  8.21479748,\n",
       "       11.21630174,  9.80849921, 10.21393088, 10.41925407,  9.5364238 ,\n",
       "       10.30276801, 11.47736946,  9.90910915,  9.33055726,  9.3691366 ,\n",
       "       10.78945661,  9.17174104, 11.32672316, 10.8311606 ,  9.75807625,\n",
       "       11.92410942,  9.61223575,  9.94831872, 12.18827213, 10.91801564,\n",
       "       10.20995593, 10.42913565, 11.45843563, 10.70640083, 10.84142713,\n",
       "       10.35835438,  9.48904381,  9.11529704,  9.8132045 ,  8.92269507,\n",
       "        9.48815056,  9.52070987,  9.25876246, 10.75100323,  8.76381434,\n",
       "       10.20679342,  9.31798016,  8.40636908, 10.36582599,  8.34673311,\n",
       "       10.84334985, 11.58929829,  9.89635492,  9.90418384,  9.09453026,\n",
       "        9.24588968, 10.43475071,  9.54072598,  9.65946716,  9.84166344,\n",
       "       11.1119317 , 11.61615031, 10.73296944, 11.74683482, 10.48046059,\n",
       "        9.86341084, 10.15088057, 10.1553959 , 10.49811698,  8.44852092,\n",
       "       11.69535189, 10.93885063, 11.06073412,  9.33052128,  9.70536416,\n",
       "        9.67922834, 10.23245003,  8.7615891 , 10.58131545,  9.68697028,\n",
       "        8.53723817, 11.5003192 , 10.49075441, 11.65567049,  7.93761884,\n",
       "        9.954226  ,  9.95776563, 10.9815469 , 12.21894753, 11.60312198,\n",
       "       10.64799654, 10.54958343,  9.15543411, 11.45918429, 12.65588837,\n",
       "        9.11016403,  9.97886453,  8.35846773,  9.74828023,  8.84250276,\n",
       "       10.1463936 ,  8.27291597,  9.39995494, 10.50895159,  9.34974084,\n",
       "        9.82880865,  8.61243705,  9.53637063,  9.13884018, 12.28518615,\n",
       "        9.148251  ,  9.60186822,  8.75555555,  8.45027629, 11.23534348,\n",
       "        9.33108092, 10.29973392,  8.14590822, 10.81328316,  9.69937649,\n",
       "       11.03795087,  9.64892097, 10.47475771, 10.57187435, 12.76916786,\n",
       "        9.57153758,  8.28824989,  9.02716947,  8.25435441,  9.97354136,\n",
       "       10.19293641, 11.22466528, 10.90427648,  9.35621315,  9.35400077,\n",
       "       11.90209946, 10.12090589,  9.34884914, 11.38355944, 10.54500367,\n",
       "        8.83727159, 13.03085212, 11.80037943, 10.03585587, 11.40785561,\n",
       "       10.19093997, 10.85414356, 11.10660624,  9.95133241, 10.40140294,\n",
       "       10.49828048,  8.63087358,  9.97429987,  9.64713919,  8.93469472,\n",
       "        9.34370007,  9.19839247,  8.87443238,  7.86510973, 11.79397019,\n",
       "        9.30166058, 10.85399978,  8.78235395, 11.41588504,  8.55339009,\n",
       "       10.95013111,  9.45928147, 11.07724618, 10.8425584 ,  7.58887027,\n",
       "       10.37176332,  9.17815281, 11.42512541, 11.07706321, 10.08195954,\n",
       "       10.91449773,  9.80427753,  9.70948533, 12.62221399, 11.56584883,\n",
       "        7.88242481, 10.86286758,  8.38543488,  9.58138077, 10.68327502,\n",
       "        9.23475155, 10.81456876, 10.22334165,  7.6083004 ,  9.38674828,\n",
       "        9.68123772, 10.08239601, 10.25456886, 11.48022768,  9.09759775,\n",
       "       11.46221841, 10.86979647,  9.78739277, 10.51405106, 10.35225866,\n",
       "        9.2958707 , 10.75073412,  9.63300256, 10.34938064, 12.16776311,\n",
       "       12.69448074,  9.3781819 , 10.20444918, 11.02321469, 10.19412989,\n",
       "        9.91959134, 10.98916849, 11.49148005,  9.56881257,  9.58229041,\n",
       "        9.33522886,  9.86582481, 10.73314076, 11.18839665,  9.19101996,\n",
       "       12.63403366,  8.85098927, 11.38571824, 10.72664592,  9.81238819,\n",
       "        8.95088666,  9.27894199, 10.42154904,  8.26023399,  8.93026594,\n",
       "       11.49801029,  8.98071947, 10.91981105, 10.68186809, 10.48030909,\n",
       "        9.04053641,  9.78659372,  9.29969911, 10.63359285, 10.62339749,\n",
       "       11.64830129,  9.56384478, 10.02581889,  7.29167732,  9.1114266 ,\n",
       "        9.783576  ,  9.41842793,  7.41150761, 10.32421087,  9.66241762,\n",
       "        9.9697155 , 10.76412454, 10.28322932, 11.773053  , 10.41075466,\n",
       "        9.72459247, 12.00062184, 10.08763289,  9.81362737,  9.86583099,\n",
       "        7.8924915 , 10.49538757, 10.11711935, 10.90194905,  8.2945412 ,\n",
       "       10.84310265,  9.12220926, 10.49747975,  9.63862808, 10.47430259,\n",
       "       10.70657622, 10.57951624, 11.26951259, 10.64486312,  9.86632906,\n",
       "        9.91706525, 10.74594932,  8.73626408,  7.69915719,  9.35245452,\n",
       "        8.85700914, 11.29593926, 10.0287947 ,  8.92958915,  9.75562351,\n",
       "       11.00695561, 10.05191927, 10.77282575,  9.25563349, 10.58735179,\n",
       "        9.11738029, 11.44005288,  9.43592724,  8.94678962, 11.51095441,\n",
       "        8.99505824,  9.88925146,  9.37930587,  9.46745066, 10.06802241,\n",
       "       11.06328425, 10.55121547,  9.62060909,  9.72762016,  9.73680201,\n",
       "       10.7118987 ,  8.68987096,  9.29030643, 10.4389077 ,  9.32723425,\n",
       "        9.45338414,  9.06526695, 10.30705936,  8.62453073, 10.09105808,\n",
       "       11.10209305,  9.54651446, 11.06488365,  9.67176323,  9.73121225,\n",
       "        9.65099528, 10.43267296,  9.03735484,  9.26104257,  9.98068759,\n",
       "       10.04656322,  8.82662248,  9.88178486, 10.50176612,  8.52589662,\n",
       "        7.679611  , 10.08212738,  9.09848023, 10.88070011,  9.27486394,\n",
       "       10.67166254,  9.50536091, 10.29951609,  9.62720511,  9.72152592,\n",
       "       11.19831486, 10.67411143,  9.82558129, 10.1151993 , 10.48144858,\n",
       "       10.03533096,  8.64919242,  9.61793798, 11.1444784 ,  9.08171349,\n",
       "       11.07802796,  8.85893666,  9.63367807, 10.00114814,  8.84278913,\n",
       "        8.2783458 , 11.19911565, 11.8545963 ,  9.5974076 ,  9.69684309,\n",
       "       10.40157149, 10.7875978 ,  9.45575902,  9.87070494,  8.9724284 ,\n",
       "        9.59305122,  9.9658209 ,  8.95871282,  8.96736337,  9.85038489,\n",
       "       11.32002805,  8.94124439, 10.98378591,  8.91312905, 10.89781493,\n",
       "       10.72922673, 10.13723844,  9.38549522, 11.37130805,  8.93224563,\n",
       "       10.4640938 , 10.11965564,  9.27283818,  8.67021976,  9.22977399,\n",
       "       11.49305904, 11.0461193 , 11.01828417,  9.42033211,  8.95702027,\n",
       "        9.81731189,  9.6472275 , 10.47321415,  9.52272013,  9.96548717,\n",
       "       10.36265636, 10.72753879,  9.01772265,  9.91957162, 10.01436982,\n",
       "       11.16864396, 10.56123055,  8.83781347,  9.8694188 ,  9.62804446,\n",
       "       11.20607513,  9.67097303,  7.89169167,  9.75541958,  9.82048152,\n",
       "        9.44611741,  9.37324353,  9.35099507,  9.2255346 , 10.30247915,\n",
       "       10.6927627 , 10.25501191, 10.4315527 , 10.41450466,  7.91910002,\n",
       "        7.86477569,  9.9520294 ,  9.19843091, 10.08948365, 10.60395795,\n",
       "       10.40202732,  9.51143035,  9.60801676,  8.70440307, 10.47780632,\n",
       "        9.73758758, 12.10524728,  9.93567531,  9.99991908,  9.1629051 ,\n",
       "       11.01987567, 10.42758105,  7.82276639,  9.95300173,  9.05354726,\n",
       "        9.44906189, 10.11319627,  9.4928467 ,  9.18187987, 10.2517938 ,\n",
       "        9.33391304,  9.90946726, 10.24767572, 11.40775118, 10.24037199,\n",
       "       10.20186292,  9.48497877, 10.35266239,  8.70918735, 10.94349608,\n",
       "       10.68708764, 11.10854968, 10.11926666,  8.94896653,  9.07103946,\n",
       "        9.66585352, 12.28416421,  9.44614701, 10.36456353,  9.7121041 ,\n",
       "       11.48272789, 10.84853796,  9.24137975, 11.2494665 , 10.02369883,\n",
       "        8.39661388, 10.22203222, 11.28766169,  8.83542889,  9.20137059,\n",
       "        9.73024499,  9.98035101, 10.5974381 , 10.60069967,  7.864769  ,\n",
       "       10.44845842,  9.48429443,  9.97434931,  8.11617045, 11.21262001,\n",
       "       11.43989215, 11.88424896,  8.74481541, 11.95443831, 10.18162417,\n",
       "       11.86065489,  8.69831554,  9.54740234, 10.2599813 , 10.15967619,\n",
       "        9.41755109,  9.1045898 , 11.20049308,  8.56306626,  9.83377572,\n",
       "        9.72765309,  8.82903609, 11.31539392, 10.59294838,  9.08141732,\n",
       "       10.12908163, 10.49959934,  9.54177192, 10.26384752, 10.45791728,\n",
       "        9.52574002, 11.51497388,  8.57500936, 10.0854089 ,  8.42019137,\n",
       "        9.63311834,  8.79675395,  9.51818684, 10.63079096,  9.3959498 ,\n",
       "        9.74422065,  9.9140712 ,  9.13142727, 10.03700707,  9.1080125 ,\n",
       "       10.90905913,  9.45083411, 10.18264431,  9.53407998,  8.37277485,\n",
       "       10.0517438 , 10.6204904 ,  9.77501267, 10.11869384, 10.17872847,\n",
       "        9.51819846,  9.57255774, 10.78680454,  8.75705076, 11.06767353,\n",
       "        9.14505905, 10.1571633 ,  9.20223743,  9.79596539, 10.58235719,\n",
       "        9.07375544,  8.712061  , 10.38526544,  7.96626387, 10.67564334,\n",
       "        8.28334876, 10.00947513,  9.88796041, 10.585324  , 11.29405196,\n",
       "        9.53709096,  9.47783061, 10.5344991 ,  9.77674332,  9.22555935,\n",
       "       10.54340728, 10.93473001, 10.05535604, 11.48616588,  8.6117138 ,\n",
       "        9.46712967, 12.07774768,  8.96147118,  9.6984605 ,  8.68224516,\n",
       "        9.9341387 ,  8.03890661,  8.99120737,  9.86105767, 10.53461875,\n",
       "        8.68455347,  9.86554915,  9.93609537,  8.32606994,  8.77961915,\n",
       "       11.92678546,  9.53039284, 10.21213291, 10.11797022,  8.34912979,\n",
       "        9.37010938,  9.40793963, 10.06102487, 10.20855409,  8.69097243,\n",
       "        9.79876079, 10.04051882, 10.51354598,  8.60244038, 10.31783852,\n",
       "       10.85972677,  8.98220902, 10.58424248, 10.06236169, 10.28544293,\n",
       "       10.97198758,  9.8316809 , 10.79851548, 10.06850229, 10.36831655,\n",
       "        9.56344651,  9.79125055,  9.58118361,  9.84005146, 11.27309241,\n",
       "        8.36054387,  9.01360153,  8.97097316, 10.75920347,  9.47467001,\n",
       "       10.40378523, 12.60819511, 10.78863404,  9.89826668, 10.32826965,\n",
       "        9.06254272,  9.32500976,  9.71352956,  8.75190407,  9.97218386,\n",
       "       10.03266623,  9.48626849, 11.65518964, 10.49046726, 11.59546041,\n",
       "       10.12239739, 10.18553916,  9.14300437,  8.45427272,  9.40201993,\n",
       "        8.40201069,  9.35386671,  9.74668741,  9.84968413,  7.79637899,\n",
       "       12.20580754,  9.47142507, 10.86527895, 12.19379871,  8.21852663,\n",
       "        9.3514056 , 10.15238017, 10.42410849, 11.32924357,  6.45440506,\n",
       "       10.92345582,  9.56912776,  9.45541234,  9.36326129, 11.48177285,\n",
       "        9.62897667,  9.34914805, 10.2200266 ,  9.58649323, 10.0610983 ,\n",
       "       11.24690327,  7.74379914, 10.03697582, 11.15612599, 11.63523698,\n",
       "       10.91583652, 10.60590441, 10.57199091, 10.81821774,  9.18731054,\n",
       "        8.28128167,  9.63860967, 10.46072612, 10.59037727, 10.25856643,\n",
       "        9.5472663 , 10.3241394 ,  9.39596308, 10.03580421, 10.93272569,\n",
       "        9.8452281 , 10.49579584, 10.01965142,  9.65129614, 10.59847748,\n",
       "       10.51441046, 11.07206046,  9.01649451, 11.92663768,  9.86109855,\n",
       "       10.34988954,  9.89783943,  8.39490368, 10.72039626,  9.092665  ,\n",
       "        8.10701725, 10.52116403, 10.79488679, 11.31949975, 10.23539951,\n",
       "       10.61036924,  8.93842936, 10.93372283, 10.84904861,  8.96345805,\n",
       "       10.98148291, 10.0329103 , 11.66136962,  9.13513575, 10.32411946,\n",
       "       10.08949037,  9.9765331 , 11.25273821,  9.19011085,  9.46537661,\n",
       "        8.71990353, 10.91498043,  9.70701306,  8.49901772, 11.25729451,\n",
       "       10.33471783, 12.80064712, 10.95779225,  8.96438192, 10.98705642,\n",
       "        9.50833767, 10.54705885,  8.07439717, 10.76536207, 10.08135131,\n",
       "       11.07912501,  8.61388582, 10.61374037,  8.55278918,  9.54261041,\n",
       "       10.49625881, 10.08458883, 12.27844673, 10.52175923,  9.4687403 ,\n",
       "       11.02575528, 10.34728731, 10.79726496, 10.1446889 , 10.78452642,\n",
       "        9.34223941,  8.88701407,  8.94171441, 10.26822933,  9.03831868,\n",
       "       11.81681112,  8.46113117, 11.07355809,  8.53907845,  9.77318419,\n",
       "       11.08521482, 10.74497357, 10.87116398,  8.78181415, 10.09686213,\n",
       "       11.25657978,  9.40143093, 10.72019232,  8.99272396,  9.94249974,\n",
       "        9.70278805, 11.1003354 , 10.16132913, 10.59265934, 11.53623018,\n",
       "        9.45048782,  9.71617468,  8.91188594, 10.71155717,  9.11095149,\n",
       "        9.92035333,  8.66562279, 10.66596901,  8.59392967,  9.31653804,\n",
       "       10.06097819,  7.9391388 ,  8.62813453, 11.19679831, 11.05239869,\n",
       "       10.33773588,  9.87882802, 10.48172485, 10.84003062,  9.66369185,\n",
       "        9.97259218, 12.42729956,  9.35673471,  9.24971797,  8.66323721,\n",
       "        9.98316031, 10.07072104,  9.8445172 , 10.84459211, 10.42070568,\n",
       "       10.50987971, 10.09877364, 11.14353256,  9.82802597,  8.47755143,\n",
       "        9.07419821, 10.6763172 , 11.16100314, 10.14033926,  9.38434785,\n",
       "       10.98408144, 10.42593842,  9.60112349, 10.62142646,  9.95537397,\n",
       "        9.16330058,  9.46609168, 11.0312278 , 10.36112688,  8.89802487,\n",
       "        9.73241889,  8.82493245,  9.01555177,  9.99211849, 10.76916689,\n",
       "        9.67410801,  8.17264688,  9.52758706, 10.42511221, 10.35871743,\n",
       "        9.97246927,  9.52218263,  9.47322526, 11.28698854, 10.5649271 ,\n",
       "       10.8997147 , 11.34627586,  9.88538932, 10.21478778, 10.63398505,\n",
       "       11.23603162, 12.58485923,  8.76903269,  9.36216118, 11.98199576,\n",
       "       12.00430726,  8.2598736 ,  9.68283721,  8.49090284,  8.59103182,\n",
       "        9.883021  , 11.92816997,  6.94739558,  9.11036573, 10.54891543,\n",
       "       10.7386256 ,  9.81975863, 11.65747637,  9.09546054,  9.91025453,\n",
       "        9.90465009,  9.39217877,  9.97716998,  9.00539475, 10.39515864,\n",
       "        9.21651553, 10.17976844, 10.50211394,  8.45845615,  8.38362802,\n",
       "       10.45239552, 10.42902066,  9.28955067, 10.88823333, 10.38500027,\n",
       "        9.94260115,  8.02220401,  9.37450409,  9.71852182,  9.42374012,\n",
       "        9.15299888,  8.98567527, 10.15163237,  7.82230975,  9.56925768,\n",
       "        8.60667975,  9.20580074, 10.20738361, 12.01222454, 10.62038265,\n",
       "       11.00134035,  8.68636635,  9.02114857, 11.43420657, 11.47217219,\n",
       "       10.04847729, 10.41488967,  9.30990587,  9.43971185,  9.99414134,\n",
       "       10.65529586,  9.81201182, 10.97486234,  8.81888554,  9.82383567,\n",
       "       11.4674959 , 11.34529394, 10.49283772,  9.91072451,  9.07790066,\n",
       "        7.84850782, 12.01705687, 11.18633984,  9.06458406, 11.50388852,\n",
       "        8.41138385,  8.65060228,  9.85514092,  9.60622132,  8.80738889,\n",
       "       10.21322027, 10.85071218,  9.4312128 , 10.44026189,  9.5830242 ,\n",
       "        8.63583964,  8.9913072 ,  9.46557996,  8.89605797, 10.06084122,\n",
       "        9.18818804,  8.83903165, 10.30216567, 10.17049293, 10.17424647,\n",
       "        9.86777763,  9.46930986, 10.2946522 ,  9.99931877, 10.21229522,\n",
       "        8.80622434, 10.07461346,  8.27151938, 10.0066829 ,  8.91872813,\n",
       "        9.35160935, 11.99231221,  8.87183341, 10.10499983, 10.52155906,\n",
       "       10.90089927, 10.38508864,  9.76027441,  9.10156177,  9.43171825,\n",
       "        9.49428929, 10.20610367,  9.41638401,  9.7442092 , 10.82231118,\n",
       "        9.68796319,  9.28879609,  9.2641849 ,  9.07220957, 10.40612527,\n",
       "       10.17338313,  9.91420974,  8.68175443,  9.47099587, 11.19643053,\n",
       "        7.33647192, 10.48475367,  9.35415254, 10.18701463,  9.45677012,\n",
       "       11.14089754,  9.97593214,  9.64820972,  9.87602153, 10.16916836,\n",
       "        8.5890979 ,  9.45923819,  9.0231648 ,  9.51435198, 10.13561706,\n",
       "       10.68777358, 10.05101223, 10.41677613, 10.44198213, 10.51183505,\n",
       "       11.61186347, 11.13259774, 11.88769992,  8.75900257, 10.34575006])"
      ]
     },
     "execution_count": 21,
     "metadata": {},
     "output_type": "execute_result"
    }
   ],
   "source": [
    "# Return the function 'normal_random' with mu=10, sigma=1, count=1000\n",
    "normal_random(10, 1, 1000)"
   ]
  },
  {
   "cell_type": "code",
   "execution_count": 112,
   "metadata": {},
   "outputs": [
    {
     "data": {
      "text/plain": [
       "10.036492441867068"
      ]
     },
     "execution_count": 112,
     "metadata": {},
     "output_type": "execute_result"
    }
   ],
   "source": [
    "normal_random(10,1,1000).mean()"
   ]
  },
  {
   "cell_type": "code",
   "execution_count": 121,
   "metadata": {},
   "outputs": [
    {
     "data": {
      "text/plain": [
       "array([  93.7041812 ,  -35.4555796 ,    6.12107966,   43.58802893,\n",
       "        -21.09429118,   -6.23515335,  -37.91540466,  -33.68920747,\n",
       "         30.20344814,    5.84415518,   31.48271631,  -20.30944547,\n",
       "         67.02651921,  126.35552326,   46.08065441,  -13.24235982,\n",
       "          3.62160498,   15.32758976,  112.59087717,   31.46778174,\n",
       "         15.96724289,   78.11457623,   38.70030126,   71.62295615,\n",
       "         34.37032815,   56.51029023,  -47.86872807,   40.84922537,\n",
       "         24.52268626, -123.6785423 ,    3.96037084,   10.36245844,\n",
       "        -59.6929672 ,   -8.37956948,  -14.03426028,    6.11259912,\n",
       "        -17.2623052 ,   19.23874267,   56.56052043,  -46.59090205,\n",
       "        -52.28364798,   50.42505253,   -9.73697133,    1.15326829,\n",
       "        -97.7657525 ,   -8.41334058,   26.78479096,  -23.94826841,\n",
       "         81.22535525,   20.66098983,  -11.35733546,   42.53816531,\n",
       "        -18.80405313,  -24.22770823,   64.07714815,   24.18810966,\n",
       "         51.92231163,  -17.8619248 ,  -89.49235633,   21.78426444,\n",
       "         23.82270421,   98.72214462,   61.99456131,   68.35722754,\n",
       "        -19.17874233,   59.01904783,   -3.93144396,  -34.53371492,\n",
       "        -58.22024553,  156.41392675,    4.03393388,   24.08425963,\n",
       "        -40.12846695,   53.14748571,  -10.33184902,  -85.71293835,\n",
       "        -13.07528611,  -65.78343584,  -87.89750217,   32.29613952,\n",
       "        -70.57921884,  -27.54733095,   28.33364261,   57.18400496,\n",
       "        109.3620213 ,  -10.92379209,   -3.34388635,   98.48310879,\n",
       "         31.29116608,   88.41265856,    2.93083654,   41.17895424,\n",
       "        -80.09379759,   19.07526996,   89.8924981 ,   16.75266866,\n",
       "         52.1976676 ,   61.10612582,   34.01132612,  -14.80074104,\n",
       "        -81.39236424,    1.32912092,  -27.38001504,  -54.50804652,\n",
       "        -46.51436623,  -32.07818884,   29.51045735,   56.94941624,\n",
       "         -8.97553669,   14.03573942,  -42.54817347,   31.12341233,\n",
       "         12.39936057,   43.8622781 ,  -38.53763099,  -20.12631138,\n",
       "        -23.03479906,  -48.49497012,   99.64657329,   68.80422245,\n",
       "         25.73151435,   82.11136313,    4.49208398,   89.74925228,\n",
       "         16.79220102,   50.47193275,   11.07765604,  -34.24325303,\n",
       "        -42.76142586,   96.92164465,  -45.31778666,    4.69027774,\n",
       "        -21.91675827,   48.7986506 ,   74.62659867,  -54.74092631,\n",
       "         -6.357908  ,   -9.83137558,  -98.41306905,   -2.18480721,\n",
       "        -21.81145969,  -20.16545441,   35.65055653,  112.92305393,\n",
       "         30.77542822,  -32.82643739,   -5.28374586,   32.59554413,\n",
       "         -2.077511  ,   89.30560006,  -59.82048   ,  -46.39637256,\n",
       "         26.32620255,  -57.41326553,    5.14497666,   19.85629028,\n",
       "         43.89466752,  -23.4359831 ,  -70.97877331,    2.71458598,\n",
       "         93.47289995,   45.19330706,   44.90558708,   56.69131257,\n",
       "        -37.58147021,  -10.27866045,  -32.0349665 ,   45.97751346,\n",
       "         16.76553184,  -45.24718478,    4.87946979,   43.499381  ,\n",
       "         53.91739887,   -1.3042305 ,   35.67874747,  -73.66777375,\n",
       "        -68.65369617,   -0.64782184,   76.23974308,    7.7990407 ,\n",
       "         -4.11373942,   95.83357433,   52.47579896,  -20.93652364,\n",
       "       -117.37626865,  114.17255064,   -9.21412701,   45.5948836 ,\n",
       "        -87.03855063,  -24.93286472,    1.35843906,   34.75681094,\n",
       "         -1.31012867,   -1.51312829,  -69.91873185,   16.11564869,\n",
       "       -108.19897544,   34.62487703,    9.84289006,  -45.51578017,\n",
       "        -48.87007468,   15.34624136,   39.23528541,    6.85620352,\n",
       "         18.37546337,   30.80166123,  -49.8238662 ,   37.5286482 ,\n",
       "        -36.74040953,  -90.03797819,   40.75845883,  -22.42635374,\n",
       "        -19.39325365,   72.68394581,   43.45599628,  102.84772105,\n",
       "        -16.97815049,    6.49291145,  -15.3283869 ,  -59.12231159,\n",
       "         42.90199687,  -25.12871053,  -23.40963687,   -8.39235461,\n",
       "         19.38261715,   -8.63677711,  -37.24875555,    9.0695971 ,\n",
       "         40.64871759,   21.60365512,  -61.71543372,  -77.32698432,\n",
       "         12.53780794,   43.464229  ,  -46.19978716,   39.43203002,\n",
       "         34.67293281,   41.14710169,  -70.10556128,  -52.89433538,\n",
       "         75.29726929,   36.37120592,  -15.739257  ,  -18.86079471,\n",
       "         45.88602428,  -41.14432205,   23.1444619 ,   23.12057309,\n",
       "         19.10563444,  -59.78023746,    2.98713746,  -30.68631322,\n",
       "         -7.49723495,   14.33883198,    5.34432589,   49.05572603,\n",
       "         96.32117965,    8.68382933,   58.31103529,   99.46109796,\n",
       "         27.7648722 ,  -24.68072302,    7.73521192,  -15.17244732,\n",
       "        -31.85606247,  -76.68836201,  -71.44673052,   45.88212571,\n",
       "         82.69063546,   13.62877392,  -84.79781375,  102.7051653 ,\n",
       "        -18.41346704,  -10.27491405,   33.27340707,   65.84338297,\n",
       "        -11.19672955,  -17.96312513,  -11.54434081,   42.15273642,\n",
       "         15.77450101,   32.2210165 ,  -51.22557596,   40.22020149,\n",
       "       -111.92625072,  109.54274784,  -68.40457167,  -42.47914646,\n",
       "         16.29246808,   99.37435618,   23.72709203,   39.15867914,\n",
       "        -37.16748606,   36.84494662,   -6.22263506,   63.13658481,\n",
       "         72.6878591 ,   10.85779655,   29.75187013,   14.73249   ,\n",
       "         -2.3464252 ,   40.6270332 , -105.17938259,   34.48574986,\n",
       "         67.06702625,  -60.36806022,   53.46483561,   53.69316634,\n",
       "         36.00636261,   11.16782068, -157.70973631, -113.7512559 ,\n",
       "          9.44894285,   30.51743468,    7.33475281,   50.80837453,\n",
       "        -73.30740145,   -4.00862405,  107.86637858,   93.94694566,\n",
       "          7.50880689,   -0.91362977,   20.31130863,  -11.15472464,\n",
       "        -43.5617352 ,   28.90734252,   52.83730888,   11.43251417,\n",
       "        -68.70981257,   12.77134407,   47.51407007,  -20.90650883,\n",
       "        -10.37197347,  -56.59266526,   18.37807981,   -6.71018965,\n",
       "         23.56191251,  -31.53777389,  -40.07940843,   33.4580819 ,\n",
       "        -30.23979817,    5.98154353,   37.65080855,    1.96709103,\n",
       "        -66.07413649,   16.39269961,  126.27430446,   16.5225857 ,\n",
       "        -34.28910447,   51.55429726,   63.72484757,  113.9955652 ,\n",
       "         47.75716602,   34.40751011,   91.02712496,    9.52465752,\n",
       "         33.3285071 ,   72.81080297,  -14.46958147,   -2.69713632,\n",
       "        -48.42533838,  -13.86220004,  117.86011321,  -62.56838548,\n",
       "        -23.68284742,  -64.11326363,  -48.13869617,  -11.50246092,\n",
       "         36.87461173,   -0.76826109,  -50.90512188,  -33.73742558,\n",
       "         56.08979947,   68.37956867,  -78.46470831,   80.50084034,\n",
       "        -16.79705963,   75.89914521,  -61.74105179,   -8.10979832,\n",
       "         18.46219624,   43.56252926,  -43.34211219,    1.99237111,\n",
       "         77.68715415,   85.90206496,  -26.31402633,   21.11958296,\n",
       "        -89.23711327,  -50.4861818 ,  -49.01885186,  -59.73189604,\n",
       "         81.22815701,    7.10995539,    3.66410911,  -13.65796315,\n",
       "        105.96555719,    7.25437594,   69.38603051,   45.29597378,\n",
       "         32.42972648,   48.95304044,   25.53458384,   20.52143354,\n",
       "        -32.32312255,   35.2245908 ,   -1.70527555,   62.35987284,\n",
       "         68.43219055,    0.94480344,   45.61202093,   98.66351936,\n",
       "         46.36755461,   42.60388797,   48.94864173,   -1.31667501,\n",
       "         -2.03631609,   64.61772759,  -22.01697545,   27.12370032,\n",
       "        -16.30330601,    1.57949769,   99.1676784 ,    3.55593991,\n",
       "         58.78090361,    6.01045241,   40.42472135,   10.20886009,\n",
       "         97.22590977,   -2.95210082,   38.77045543,   37.35390147,\n",
       "        -19.51313583,   -2.01737892,   10.5203043 ,  -68.97973105,\n",
       "          1.32364953,  -28.49507724,  -24.50520943,   87.04971028,\n",
       "         27.75056311,   -2.50298469,  -56.86205709,   65.66183645,\n",
       "       -111.75712801,  -24.22713885,  -97.31745752,   26.41013521,\n",
       "         49.8338604 ,   26.7384317 ,  -54.65862248,   20.50959371,\n",
       "        -54.5727087 ,   39.7692852 ,  -78.44603957,  -41.19527488,\n",
       "        -51.4914118 ,    8.77238271,   96.40152871,   42.13105106,\n",
       "          1.60818615,   18.28304976,  -85.98586436,   24.22159487,\n",
       "         38.18265465,  -11.59395099,   15.65596062,   34.25143284,\n",
       "         64.54178706,  -96.54881145,   42.39037152,  -25.98474356,\n",
       "        -29.75500959,  -14.66473475,    9.0682266 ,   94.10882989,\n",
       "        -22.05144303,   70.85710796,   65.32841277,   45.49413931,\n",
       "        -13.90696433,    7.3939686 ,   47.64626421,   50.25217543,\n",
       "         25.67755536,   41.92573356,   -9.12708019,   -5.68450055,\n",
       "         -5.18648463,   19.2613073 ,   82.23111461,   54.54674297,\n",
       "         -7.31662879,   42.29818421,   17.03827423,   48.52587305,\n",
       "         35.69143545,   -9.29878343,    7.71650648,  -59.01160427,\n",
       "         58.55429388,   51.19538012,  -81.82877735,  -44.75380329,\n",
       "         55.3487652 ,  -65.16709923,    5.72011689,   35.06109396,\n",
       "         56.1968695 ,  -26.19389647,   90.8139829 ,  -42.09616761,\n",
       "        -16.71975671,    8.57644198,   47.57011652,   19.54739503,\n",
       "         42.83817718,   -7.3357985 ,    2.64122603,  -63.24072995,\n",
       "         98.04995323,  -19.39158959,   -9.40470861,   68.26340043,\n",
       "         23.5747855 ,  -79.09350918,   39.13274547,   -0.36566879,\n",
       "         28.12451535,   42.18563646,   58.2213477 ,   59.48800663,\n",
       "        -15.46511329,   26.82565471,  -22.76246715,  -26.09856389,\n",
       "        -49.23183386,   30.94523689,   25.42419557,   21.35972817,\n",
       "        -69.46890583,  -18.45637918,  111.46710827,   26.64867063,\n",
       "          7.50315009,   52.63459901,    6.85266748,  -39.38371359,\n",
       "        105.45623425,  -60.382577  ,  -34.68211654,   -2.83730975,\n",
       "        -10.10423865,  -31.25077577,   28.82830758,   74.51067923,\n",
       "         70.67314568,   24.49159873,   64.40594813,   34.19538956,\n",
       "         74.22534695,  -29.57179372,    2.34102095,   14.86949477,\n",
       "        -10.25458416,   66.07031113,   36.40001167,  -29.19123049,\n",
       "         22.98787489,   -3.36363454,  -15.96279109,   28.98795649,\n",
       "         -1.70533042,   16.04919364,   50.32506369,   -9.2420117 ,\n",
       "        -27.31884537,   35.74028538,   42.51469723,   -1.46571671,\n",
       "         79.20556475,   70.5981537 ,   16.31078818,   10.85397192,\n",
       "        -79.27836001,  110.15175304,  -26.32559886,   -0.2845705 ,\n",
       "        -13.42103411,  -43.84836706,   55.22415526,   20.28111243,\n",
       "          4.11837065,   27.77704209,  -13.60484467,   48.89788347,\n",
       "        -34.73300544,   31.44694594,   68.99502257,  149.59764376,\n",
       "         39.10273162,  -39.59958086,   77.0647184 ,   31.0210871 ,\n",
       "         37.19089233,   51.49140659,   76.74541381,   -1.61931025,\n",
       "         11.96169186,   28.93020557,   36.34832845,   -1.80725959,\n",
       "        -44.23373642,   45.61805662,   63.59732481,   46.00360036,\n",
       "        -20.53902981,  -37.56695622,   19.63279702,  -21.55065919,\n",
       "        -34.50859976,   89.66155316,   41.4177603 ,   23.59185784,\n",
       "         44.33884329,  -47.96508523,   45.22561205,  -40.2549545 ,\n",
       "          7.58412466,  -61.88921838,   -4.00392204,   28.58379618,\n",
       "        -15.75714087,   42.72487456,  -43.4390577 ,  -57.73650163,\n",
       "         43.09719682,  -62.85317073,  -11.93300453,   32.74424727,\n",
       "        -21.77191454,  -31.23475998,  -30.74046443,    6.06153007,\n",
       "        -20.03816254,   91.57100206,  -20.51356145,  -50.89780343,\n",
       "         56.67697307,   43.85634701,   17.38752286,  -17.55064082,\n",
       "         47.75747556,   -4.56891793,   38.68295162,   -5.80282414,\n",
       "        -22.19069744,   14.81077722,   -9.96450919,    4.96846502,\n",
       "        -24.96974154,   53.89079883,   39.3595854 ,  -41.8259525 ,\n",
       "         -8.28264009,   37.00183297,   22.40988197,  -17.2207879 ,\n",
       "        103.72810944,   31.91878583,  -24.51806361,  -67.620569  ,\n",
       "        -47.17994819,   23.50368462,   15.18755382,   50.94449841,\n",
       "         21.1063563 ,   25.28297173,  -22.75927694,   70.63546888,\n",
       "         10.34743367,    3.19551283,  -14.66565262,  -19.06009245,\n",
       "         59.62952337,  -18.97737127,  103.55483965,  -52.21178569,\n",
       "         -2.49402135,  -84.67390303,  114.78875295,  -81.92165713,\n",
       "         99.31369351,  -14.27332312,    9.93577318,   31.18796803,\n",
       "         50.30003609,   54.24493546,  -47.41570048,   86.06398767,\n",
       "         -7.77726767,   31.9728601 ,    1.31126253,   71.57261782,\n",
       "        -16.46807908,  -24.98044134,   81.54986999,  -85.60042767,\n",
       "         -8.87166035,  -12.5978353 ,   20.06871269,   29.66768518,\n",
       "        -19.99745627,   46.49095891,  -19.55383794,    6.38040977,\n",
       "        -49.1735468 ,    1.56792318,   84.88361909,  -59.89091081,\n",
       "         36.73858828,   74.64189381,   18.96155801,   60.47927446,\n",
       "        -77.92125863,  -55.58506745,  -56.63275366,  -35.49851043,\n",
       "         87.58678227,   55.67083086,   25.59010126,   45.89975994,\n",
       "        -27.81383977,    4.67343902,  -38.97420312,   60.40113448,\n",
       "         -3.9288619 ,    5.95045695,  -15.93344667,    9.17046711,\n",
       "        102.06125125,   -8.45866276,   45.50965899,  -49.95507171,\n",
       "         51.68076587,   19.12893824,  -37.5932553 ,   40.67731328,\n",
       "        -14.80335536,  -17.27353159,   33.16346172,   67.34012642,\n",
       "        -52.19820049,  -26.9984132 ,  -26.00447726,  -42.41230831,\n",
       "         35.61067509,   65.60704204,   68.58961661,    3.26346831,\n",
       "        -36.42111395,   15.97994936,   -2.21205473,  -12.73310273,\n",
       "        -22.33919574,   36.26250963,  -27.81236906,   14.22281278,\n",
       "         84.62621202,   68.21070303,   48.05157766,   42.4275637 ,\n",
       "         70.51671045,  -30.35856006,   -1.00385666,   29.84070264,\n",
       "        -16.6959756 ,  -17.34764475,  -20.3796335 ,   44.43070748,\n",
       "       -124.85657097,  -25.4683547 ,    2.86179108,  123.53938985,\n",
       "        -67.35993797,   -8.08165172,  -64.1353545 ,   80.97190043,\n",
       "          8.38152953,  -10.31869587,   53.23949113,   80.8926744 ,\n",
       "        -14.22529911,   77.07490542,   76.9051484 ,   29.21239686,\n",
       "         44.06612319,   58.7932425 ,  -52.93259085,   -7.39670853,\n",
       "         62.63732505,  -10.13660124,   57.09150068,   -9.01590133,\n",
       "          3.4844252 ,   42.29365427,  -63.94544674,   -6.62502453,\n",
       "         52.27247165,   13.64519757,  -15.68960111, -134.88762981,\n",
       "        -73.66765293,   74.91414828,   14.19089989,   66.10217255,\n",
       "         35.85655984,  -39.53049856,   -1.43193451,   74.35801697,\n",
       "        -85.74596602,   64.29399222,   12.13331689,  -45.66222677,\n",
       "        -25.0449817 ,    9.21230349,    3.71359854,    2.8608441 ,\n",
       "        -35.03305827, -101.78385215,   79.94434795,  -40.8261662 ,\n",
       "        -43.80239693,   19.61900837,    0.54221848,   96.6757945 ,\n",
       "        -51.86695032,   17.49177259,   -9.55517366,  -69.60763542,\n",
       "         61.1509821 ,  -26.09763979,  -50.42925768,  -37.8051862 ,\n",
       "         32.68731688,  -33.3821836 ,   46.27136161,  -36.36884513,\n",
       "         -4.93787427,   65.45525109,  -10.94719453,   11.07939999,\n",
       "         66.68870932,   23.60950263,    7.99849799,  -25.10179389,\n",
       "        -63.52784592,   15.63895314,  -74.91748079,   66.90067456,\n",
       "        -19.18815873,   47.31427484,  -15.52278395,   -9.68294212,\n",
       "         46.40822404,  -62.46673259,    2.6579084 ,  -15.88205063,\n",
       "         43.76595343,   68.86460378,  -65.23001593,   24.76556939,\n",
       "        -49.09596907,  -46.97991666,  -26.09148028,   73.55478707,\n",
       "        -33.65539537,   27.81679041,   96.27109271,    6.18909226,\n",
       "        -41.2565856 ,   37.48240624,    1.10072984,   67.57286118,\n",
       "        -17.697161  ,  -34.1559772 ,   -2.81563554,  -18.30674167,\n",
       "          6.69743702,   72.73427968,  157.85779456,  -84.3950127 ,\n",
       "         23.37449872,   89.48933506,  -23.13173854,  -26.82017566,\n",
       "        -11.21591004,   45.10796809,   45.59572392,  -96.6252856 ,\n",
       "         33.2518493 ,  125.71401519,   79.11406679,  -16.85318504,\n",
       "          2.00927089,  -21.71367819,   32.91021211,  -15.92514029,\n",
       "         44.6128893 ,   85.7626695 ,   41.04724019,   36.92903165,\n",
       "         41.11601586,   30.77442734,  -19.3305014 ,   64.53538893,\n",
       "          6.28448812,   44.016496  ,   20.56963251,   29.95138939,\n",
       "        -85.28026459,  -58.17584191,   64.67081245,   78.38235162,\n",
       "         29.01348278,  -62.66002547,   16.2319308 ,   24.53622139,\n",
       "        -67.08898339,   48.6163146 ,   37.7607444 ,  -32.06805545,\n",
       "         -5.50615935,   33.33164376,   59.16201531,   -4.44684113,\n",
       "         17.18923428,   31.39948085,   43.25000384,  -33.90824452,\n",
       "        -89.31821439,   16.37236853, -117.90637253,   21.04060299,\n",
       "         73.68939649,   80.04572738,   21.94610215,   -3.79161431,\n",
       "        -19.58598638,  -20.14188385,   77.67165706,   51.85141521,\n",
       "         39.87737156,   54.37279272,   98.59236441,  -65.18201683,\n",
       "         52.09780868,    1.64056739,  -76.03431338,  -14.31120482,\n",
       "         -5.95075699,    2.44213888,   75.46319039,  -58.81718833,\n",
       "         31.0671717 ,  -16.72572162,   26.7493165 ,  -48.72876113,\n",
       "        -41.91171171,  -41.22115857,   31.88832963,   -5.4655963 ,\n",
       "         77.79088887,   71.01270521,  -17.2702845 ,  -43.99953783,\n",
       "        -46.96143291,   -7.56921863,   98.24219698,  -55.63847938,\n",
       "        -87.53169146,   32.57307865,   85.94358251,   54.69260091,\n",
       "        -17.2592774 ,    1.47502293,    9.94489214,   20.50236407,\n",
       "          2.20654221,    8.15861024,  -18.80403334,   70.64670473,\n",
       "         63.09187194,   11.28153311,   77.4471591 ,   54.6762919 ,\n",
       "         57.55360029,  -10.99468371,   -7.87115198,   -6.7847038 ])"
      ]
     },
     "execution_count": 121,
     "metadata": {},
     "output_type": "execute_result"
    }
   ],
   "source": [
    "# Return the function 'normal_random' with mu=10, sigma=50, count=1000\n",
    "\n",
    "normal_random(10, 50, 1000)"
   ]
  },
  {
   "cell_type": "code",
   "execution_count": 122,
   "metadata": {},
   "outputs": [
    {
     "data": {
      "text/plain": [
       "10.047035165285001"
      ]
     },
     "execution_count": 122,
     "metadata": {},
     "output_type": "execute_result"
    }
   ],
   "source": [
    "normal_random(10,5,1000).mean()\n"
   ]
  },
  {
   "cell_type": "code",
   "execution_count": 39,
   "metadata": {},
   "outputs": [
    {
     "data": {
      "image/png": "[encoded data removed]",
      "text/plain": [
       "<Figure size 432x288 with 2 Axes>"
      ]
     },
     "metadata": {
      "needs_background": "light"
     },
     "output_type": "display_data"
    }
   ],
   "source": [
    "# Create a subplot of 2 columns and 1 row in order to plot 2 charts \n",
    "\n",
    "fig,ax = plt.subplots(ncols=2)\n",
    "\n",
    "x = normal_random(10, 1, 1000)\n",
    "ax[0].hist(x, bins=60)\n",
    "\n",
    "y = normal_random(10, 50, 1000)\n",
    "ax[1].hist(y, bins=50)\n",
    "\n",
    "plt.show()\n"
   ]
  },
  {
   "cell_type": "markdown",
   "metadata": {},
   "source": [
    "How are the two distributions different?"
   ]
  },
  {
   "cell_type": "markdown",
   "metadata": {},
   "source": [
    "### Comments\n",
    "\n",
    "When comparing histograms 1 and 2, we clearly see that the values of subplot a are more concentrated around the mean in the case of normal random, visualizaton 1 --> x = normal_random(10, 1, 1000)\n",
    "\n",
    "When looking histogram 2, we see that there are more ouliers. "
   ]
  },
  {
   "cell_type": "markdown",
   "metadata": {},
   "source": [
    "## Normal Distribution of Real Data\n",
    "\n",
    "In this challenge we are going to take a look the real data. We will use vehicles.csv file for this exercise"
   ]
  },
  {
   "cell_type": "code",
   "execution_count": 59,
   "metadata": {},
   "outputs": [
    {
     "data": {
      "text/html": [
       "<div>\n",
       "<style scoped>\n",
       "    .dataframe tbody tr th:only-of-type {\n",
       "        vertical-align: middle;\n",
       "    }\n",
       "\n",
       "    .dataframe tbody tr th {\n",
       "        vertical-align: top;\n",
       "    }\n",
       "\n",
       "    .dataframe thead th {\n",
       "        text-align: right;\n",
       "    }\n",
       "</style>\n",
       "<table border=\"1\" class=\"dataframe\">\n",
       "  <thead>\n",
       "    <tr style=\"text-align: right;\">\n",
       "      <th></th>\n",
       "      <th>Make</th>\n",
       "      <th>Model</th>\n",
       "      <th>Year</th>\n",
       "      <th>Engine Displacement</th>\n",
       "      <th>Cylinders</th>\n",
       "      <th>Transmission</th>\n",
       "      <th>Drivetrain</th>\n",
       "      <th>Vehicle Class</th>\n",
       "      <th>Fuel Type</th>\n",
       "      <th>Fuel Barrels/Year</th>\n",
       "      <th>City MPG</th>\n",
       "      <th>Highway MPG</th>\n",
       "      <th>Combined MPG</th>\n",
       "      <th>CO2 Emission Grams/Mile</th>\n",
       "      <th>Fuel Cost/Year</th>\n",
       "    </tr>\n",
       "  </thead>\n",
       "  <tbody>\n",
       "    <tr>\n",
       "      <th>0</th>\n",
       "      <td>AM General</td>\n",
       "      <td>DJ Po Vehicle 2WD</td>\n",
       "      <td>1984</td>\n",
       "      <td>2.5</td>\n",
       "      <td>4.0</td>\n",
       "      <td>Automatic 3-spd</td>\n",
       "      <td>2-Wheel Drive</td>\n",
       "      <td>Special Purpose Vehicle 2WD</td>\n",
       "      <td>Regular</td>\n",
       "      <td>19.388824</td>\n",
       "      <td>18</td>\n",
       "      <td>17</td>\n",
       "      <td>17</td>\n",
       "      <td>522.764706</td>\n",
       "      <td>1950</td>\n",
       "    </tr>\n",
       "    <tr>\n",
       "      <th>1</th>\n",
       "      <td>AM General</td>\n",
       "      <td>FJ8c Post Office</td>\n",
       "      <td>1984</td>\n",
       "      <td>4.2</td>\n",
       "      <td>6.0</td>\n",
       "      <td>Automatic 3-spd</td>\n",
       "      <td>2-Wheel Drive</td>\n",
       "      <td>Special Purpose Vehicle 2WD</td>\n",
       "      <td>Regular</td>\n",
       "      <td>25.354615</td>\n",
       "      <td>13</td>\n",
       "      <td>13</td>\n",
       "      <td>13</td>\n",
       "      <td>683.615385</td>\n",
       "      <td>2550</td>\n",
       "    </tr>\n",
       "    <tr>\n",
       "      <th>2</th>\n",
       "      <td>AM General</td>\n",
       "      <td>Post Office DJ5 2WD</td>\n",
       "      <td>1985</td>\n",
       "      <td>2.5</td>\n",
       "      <td>4.0</td>\n",
       "      <td>Automatic 3-spd</td>\n",
       "      <td>Rear-Wheel Drive</td>\n",
       "      <td>Special Purpose Vehicle 2WD</td>\n",
       "      <td>Regular</td>\n",
       "      <td>20.600625</td>\n",
       "      <td>16</td>\n",
       "      <td>17</td>\n",
       "      <td>16</td>\n",
       "      <td>555.437500</td>\n",
       "      <td>2100</td>\n",
       "    </tr>\n",
       "    <tr>\n",
       "      <th>3</th>\n",
       "      <td>AM General</td>\n",
       "      <td>Post Office DJ8 2WD</td>\n",
       "      <td>1985</td>\n",
       "      <td>4.2</td>\n",
       "      <td>6.0</td>\n",
       "      <td>Automatic 3-spd</td>\n",
       "      <td>Rear-Wheel Drive</td>\n",
       "      <td>Special Purpose Vehicle 2WD</td>\n",
       "      <td>Regular</td>\n",
       "      <td>25.354615</td>\n",
       "      <td>13</td>\n",
       "      <td>13</td>\n",
       "      <td>13</td>\n",
       "      <td>683.615385</td>\n",
       "      <td>2550</td>\n",
       "    </tr>\n",
       "    <tr>\n",
       "      <th>4</th>\n",
       "      <td>ASC Incorporated</td>\n",
       "      <td>GNX</td>\n",
       "      <td>1987</td>\n",
       "      <td>3.8</td>\n",
       "      <td>6.0</td>\n",
       "      <td>Automatic 4-spd</td>\n",
       "      <td>Rear-Wheel Drive</td>\n",
       "      <td>Midsize Cars</td>\n",
       "      <td>Premium</td>\n",
       "      <td>20.600625</td>\n",
       "      <td>14</td>\n",
       "      <td>21</td>\n",
       "      <td>16</td>\n",
       "      <td>555.437500</td>\n",
       "      <td>2550</td>\n",
       "    </tr>\n",
       "    <tr>\n",
       "      <th>5</th>\n",
       "      <td>Acura</td>\n",
       "      <td>2.2CL/3.0CL</td>\n",
       "      <td>1997</td>\n",
       "      <td>2.2</td>\n",
       "      <td>4.0</td>\n",
       "      <td>Automatic 4-spd</td>\n",
       "      <td>Front-Wheel Drive</td>\n",
       "      <td>Subcompact Cars</td>\n",
       "      <td>Regular</td>\n",
       "      <td>14.982273</td>\n",
       "      <td>20</td>\n",
       "      <td>26</td>\n",
       "      <td>22</td>\n",
       "      <td>403.954545</td>\n",
       "      <td>1500</td>\n",
       "    </tr>\n",
       "    <tr>\n",
       "      <th>6</th>\n",
       "      <td>Acura</td>\n",
       "      <td>2.2CL/3.0CL</td>\n",
       "      <td>1997</td>\n",
       "      <td>2.2</td>\n",
       "      <td>4.0</td>\n",
       "      <td>Manual 5-spd</td>\n",
       "      <td>Front-Wheel Drive</td>\n",
       "      <td>Subcompact Cars</td>\n",
       "      <td>Regular</td>\n",
       "      <td>13.733750</td>\n",
       "      <td>22</td>\n",
       "      <td>28</td>\n",
       "      <td>24</td>\n",
       "      <td>370.291667</td>\n",
       "      <td>1400</td>\n",
       "    </tr>\n",
       "    <tr>\n",
       "      <th>7</th>\n",
       "      <td>Acura</td>\n",
       "      <td>2.2CL/3.0CL</td>\n",
       "      <td>1997</td>\n",
       "      <td>3.0</td>\n",
       "      <td>6.0</td>\n",
       "      <td>Automatic 4-spd</td>\n",
       "      <td>Front-Wheel Drive</td>\n",
       "      <td>Subcompact Cars</td>\n",
       "      <td>Regular</td>\n",
       "      <td>16.480500</td>\n",
       "      <td>18</td>\n",
       "      <td>26</td>\n",
       "      <td>20</td>\n",
       "      <td>444.350000</td>\n",
       "      <td>1650</td>\n",
       "    </tr>\n",
       "    <tr>\n",
       "      <th>8</th>\n",
       "      <td>Acura</td>\n",
       "      <td>2.3CL/3.0CL</td>\n",
       "      <td>1998</td>\n",
       "      <td>2.3</td>\n",
       "      <td>4.0</td>\n",
       "      <td>Automatic 4-spd</td>\n",
       "      <td>Front-Wheel Drive</td>\n",
       "      <td>Subcompact Cars</td>\n",
       "      <td>Regular</td>\n",
       "      <td>14.982273</td>\n",
       "      <td>19</td>\n",
       "      <td>27</td>\n",
       "      <td>22</td>\n",
       "      <td>403.954545</td>\n",
       "      <td>1500</td>\n",
       "    </tr>\n",
       "    <tr>\n",
       "      <th>9</th>\n",
       "      <td>Acura</td>\n",
       "      <td>2.3CL/3.0CL</td>\n",
       "      <td>1998</td>\n",
       "      <td>2.3</td>\n",
       "      <td>4.0</td>\n",
       "      <td>Manual 5-spd</td>\n",
       "      <td>Front-Wheel Drive</td>\n",
       "      <td>Subcompact Cars</td>\n",
       "      <td>Regular</td>\n",
       "      <td>13.733750</td>\n",
       "      <td>21</td>\n",
       "      <td>29</td>\n",
       "      <td>24</td>\n",
       "      <td>370.291667</td>\n",
       "      <td>1400</td>\n",
       "    </tr>\n",
       "  </tbody>\n",
       "</table>\n",
       "</div>"
      ],
      "text/plain": [
       "               Make                Model  Year  Engine Displacement  \\\n",
       "0        AM General    DJ Po Vehicle 2WD  1984                  2.5   \n",
       "1        AM General     FJ8c Post Office  1984                  4.2   \n",
       "2        AM General  Post Office DJ5 2WD  1985                  2.5   \n",
       "3        AM General  Post Office DJ8 2WD  1985                  4.2   \n",
       "4  ASC Incorporated                  GNX  1987                  3.8   \n",
       "5             Acura          2.2CL/3.0CL  1997                  2.2   \n",
       "6             Acura          2.2CL/3.0CL  1997                  2.2   \n",
       "7             Acura          2.2CL/3.0CL  1997                  3.0   \n",
       "8             Acura          2.3CL/3.0CL  1998                  2.3   \n",
       "9             Acura          2.3CL/3.0CL  1998                  2.3   \n",
       "\n",
       "   Cylinders     Transmission         Drivetrain                Vehicle Class  \\\n",
       "0        4.0  Automatic 3-spd      2-Wheel Drive  Special Purpose Vehicle 2WD   \n",
       "1        6.0  Automatic 3-spd      2-Wheel Drive  Special Purpose Vehicle 2WD   \n",
       "2        4.0  Automatic 3-spd   Rear-Wheel Drive  Special Purpose Vehicle 2WD   \n",
       "3        6.0  Automatic 3-spd   Rear-Wheel Drive  Special Purpose Vehicle 2WD   \n",
       "4        6.0  Automatic 4-spd   Rear-Wheel Drive                 Midsize Cars   \n",
       "5        4.0  Automatic 4-spd  Front-Wheel Drive              Subcompact Cars   \n",
       "6        4.0     Manual 5-spd  Front-Wheel Drive              Subcompact Cars   \n",
       "7        6.0  Automatic 4-spd  Front-Wheel Drive              Subcompact Cars   \n",
       "8        4.0  Automatic 4-spd  Front-Wheel Drive              Subcompact Cars   \n",
       "9        4.0     Manual 5-spd  Front-Wheel Drive              Subcompact Cars   \n",
       "\n",
       "  Fuel Type  Fuel Barrels/Year  City MPG  Highway MPG  Combined MPG  \\\n",
       "0   Regular          19.388824        18           17            17   \n",
       "1   Regular          25.354615        13           13            13   \n",
       "2   Regular          20.600625        16           17            16   \n",
       "3   Regular          25.354615        13           13            13   \n",
       "4   Premium          20.600625        14           21            16   \n",
       "5   Regular          14.982273        20           26            22   \n",
       "6   Regular          13.733750        22           28            24   \n",
       "7   Regular          16.480500        18           26            20   \n",
       "8   Regular          14.982273        19           27            22   \n",
       "9   Regular          13.733750        21           29            24   \n",
       "\n",
       "   CO2 Emission Grams/Mile  Fuel Cost/Year  \n",
       "0               522.764706            1950  \n",
       "1               683.615385            2550  \n",
       "2               555.437500            2100  \n",
       "3               683.615385            2550  \n",
       "4               555.437500            2550  \n",
       "5               403.954545            1500  \n",
       "6               370.291667            1400  \n",
       "7               444.350000            1650  \n",
       "8               403.954545            1500  \n",
       "9               370.291667            1400  "
      ]
     },
     "execution_count": 59,
     "metadata": {},
     "output_type": "execute_result"
    }
   ],
   "source": [
    "#Read the csv file, and return a dataframe\n",
    "\n",
    "vehicles = pd.read_csv('/Users/GiadaSartori/Documents/IRONHACK/Lab/Week5/lab-probability-distributions/your-code/vehicles.csv')\n",
    "vehicles.head(10)"
   ]
  },
  {
   "cell_type": "code",
   "execution_count": 71,
   "metadata": {},
   "outputs": [
    {
     "data": {
      "text/plain": [
       "Index(['Make', 'Model', 'Year', 'Engine Displacement', 'Cylinders',\n",
       "       'Transmission', 'Drivetrain', 'Vehicle Class', 'Fuel Type',\n",
       "       'Fuel Barrels/Year', 'City MPG', 'Highway MPG', 'Combined MPG',\n",
       "       'CO2 Emission Grams/Mile', 'Fuel Cost/Year'],\n",
       "      dtype='object')"
      ]
     },
     "execution_count": 71,
     "metadata": {},
     "output_type": "execute_result"
    }
   ],
   "source": [
    "#Quickly analyze the dataframe vehicles\n",
    "\n",
    "columns = vehicles.columns\n",
    "columns"
   ]
  },
  {
   "cell_type": "code",
   "execution_count": 72,
   "metadata": {},
   "outputs": [
    {
     "data": {
      "text/plain": [
       "15"
      ]
     },
     "execution_count": 72,
     "metadata": {},
     "output_type": "execute_result"
    }
   ],
   "source": [
    "len(columns)"
   ]
  },
  {
   "cell_type": "markdown",
   "metadata": {},
   "source": [
    "Then plot the histograms for the following variables:\n",
    "\n",
    "1. Fuel Barrels/Year"
   ]
  },
  {
   "cell_type": "code",
   "execution_count": 73,
   "metadata": {},
   "outputs": [
    {
     "data": {
      "image/png": "[encoded data removed]",
      "text/plain": [
       "<Figure size 432x288 with 1 Axes>"
      ]
     },
     "metadata": {
      "needs_background": "light"
     },
     "output_type": "display_data"
    }
   ],
   "source": [
    "plt.hist(vehicles['Fuel Barrels/Year'])\n",
    "plt.show()\n"
   ]
  },
  {
   "cell_type": "markdown",
   "metadata": {},
   "source": [
    "2. CO2 Emission Grams/Mile "
   ]
  },
  {
   "cell_type": "code",
   "execution_count": 74,
   "metadata": {},
   "outputs": [
    {
     "data": {
      "image/png": "[encoded data removed]",
      "text/plain": [
       "<Figure size 432x288 with 1 Axes>"
      ]
     },
     "metadata": {
      "needs_background": "light"
     },
     "output_type": "display_data"
    }
   ],
   "source": [
    "plt.hist(vehicles['CO2 Emission Grams/Mile'])\n",
    "plt.show()\n"
   ]
  },
  {
   "cell_type": "markdown",
   "metadata": {},
   "source": [
    "3. Combined MPG"
   ]
  },
  {
   "cell_type": "code",
   "execution_count": 69,
   "metadata": {},
   "outputs": [
    {
     "data": {
      "image/png": "[encoded data removed]",
      "text/plain": [
       "<Figure size 432x288 with 1 Axes>"
      ]
     },
     "metadata": {
      "needs_background": "light"
     },
     "output_type": "display_data"
    }
   ],
   "source": [
    "plt.hist(vehicles['Combined MPG'])\n",
    "plt.show()\n"
   ]
  },
  {
   "cell_type": "markdown",
   "metadata": {},
   "source": [
    "Which one(s) of the variables are nearly normally distributed? How do you know?"
   ]
  },
  {
   "cell_type": "markdown",
   "metadata": {},
   "source": [
    "##### Normal Distribution or Gaussian Distribution\n",
    "\n",
    "###### Definition:\n",
    "It is the most common distribution function for independent, randomly generated variables. \n",
    "It is a probability distribution that is symmetric about the mean, showing that data near the mean are more frequent in occurrence than data far from the mean. \n",
    "\n",
    "###### Key characteristics:\n",
    "1) Symmetric\n",
    "2) Unimodal\n",
    "3) Asymptotic\n",
    "4) Mean, median, and mode are all equal"
   ]
  },
  {
   "cell_type": "code",
   "execution_count": 84,
   "metadata": {},
   "outputs": [
    {
     "data": {
      "text/plain": [
       "17.609055502328875"
      ]
     },
     "execution_count": 84,
     "metadata": {},
     "output_type": "execute_result"
    }
   ],
   "source": [
    "## 1. Fuel Barels / Year\n",
    "# Compute the media, the median and the mode\n",
    "\n",
    "vehicles['Fuel Barrels/Year'].mean()"
   ]
  },
  {
   "cell_type": "code",
   "execution_count": 83,
   "metadata": {},
   "outputs": [
    {
     "data": {
      "text/plain": [
       "17.347894736842107"
      ]
     },
     "execution_count": 83,
     "metadata": {},
     "output_type": "execute_result"
    }
   ],
   "source": [
    "vehicles['Fuel Barrels/Year'].median()"
   ]
  },
  {
   "cell_type": "code",
   "execution_count": 85,
   "metadata": {},
   "outputs": [
    {
     "data": {
      "text/plain": [
       "0    18.311667\n",
       "Name: Fuel Barrels/Year, dtype: float64"
      ]
     },
     "execution_count": 85,
     "metadata": {},
     "output_type": "execute_result"
    }
   ],
   "source": [
    "vehicles['Fuel Barrels/Year'].mode()"
   ]
  },
  {
   "cell_type": "code",
   "execution_count": 80,
   "metadata": {},
   "outputs": [
    {
     "data": {
      "text/plain": [
       "False"
      ]
     },
     "execution_count": 80,
     "metadata": {},
     "output_type": "execute_result"
    }
   ],
   "source": [
    "# Check if the mean, the median and the mode of Fuel Barrels Year are equal or not\n",
    "\n",
    "vehicles['Fuel Barrels/Year'].mean() == vehicles['Fuel Barrels/Year'].median() == vehicles['Fuel Barrels/Year'].mode()"
   ]
  },
  {
   "cell_type": "code",
   "execution_count": 86,
   "metadata": {},
   "outputs": [
    {
     "data": {
      "text/plain": [
       "475.31633925715045"
      ]
     },
     "execution_count": 86,
     "metadata": {},
     "output_type": "execute_result"
    }
   ],
   "source": [
    "## 2. CO2 Emission Grams/Mile:\n",
    "## Compute the media, the median and the mode\n",
    "\n",
    "vehicles['CO2 Emission Grams/Mile'].mean()"
   ]
  },
  {
   "cell_type": "code",
   "execution_count": 87,
   "metadata": {},
   "outputs": [
    {
     "data": {
      "text/plain": [
       "467.7368421052632"
      ]
     },
     "execution_count": 87,
     "metadata": {},
     "output_type": "execute_result"
    }
   ],
   "source": [
    "vehicles['CO2 Emission Grams/Mile'].median()"
   ]
  },
  {
   "cell_type": "code",
   "execution_count": 88,
   "metadata": {},
   "outputs": [
    {
     "data": {
      "text/plain": [
       "0    493.722222\n",
       "Name: CO2 Emission Grams/Mile, dtype: float64"
      ]
     },
     "execution_count": 88,
     "metadata": {},
     "output_type": "execute_result"
    }
   ],
   "source": [
    "vehicles['CO2 Emission Grams/Mile'].mode()"
   ]
  },
  {
   "cell_type": "code",
   "execution_count": null,
   "metadata": {},
   "outputs": [],
   "source": [
    "vehicles['CO2 Emission Grams/Mile'].mean() == vehicles['CO2 Emission Grams/Mile'].median() == vehicles['CO2 Emission Grams/Mile'].mode()"
   ]
  },
  {
   "cell_type": "markdown",
   "metadata": {},
   "source": [
    "## Exponential Distribution"
   ]
  },
  {
   "cell_type": "markdown",
   "metadata": {},
   "source": [
    "1. Using `numpy.random.exponential`, create a function that returns a list of numbers exponentially distributed with the mean of 10. \n",
    "\n",
    "1. Use the function to generate two number sequences with a mean of 1 and 100 and a size of 1000.\n",
    "\n",
    "1. Plot the distributions as histograms with the number of bins as 100.\n",
    "\n",
    "Your output should look like below:\n",
    "\n",
    "![exponential distribution](ed.png)"
   ]
  },
  {
   "cell_type": "markdown",
   "metadata": {},
   "source": [
    "### Recap:\n",
    "\n",
    "The exponential distribution graph is a graph of the probability density function which shows the distribution of distance or time taken between events."
   ]
  },
  {
   "cell_type": "code",
   "execution_count": 101,
   "metadata": {},
   "outputs": [
    {
     "data": {
      "text/plain": [
       "array([ 6.93439326, 15.42604549,  3.13267684,  2.94590754,  1.74760255])"
      ]
     },
     "execution_count": 101,
     "metadata": {},
     "output_type": "execute_result"
    }
   ],
   "source": [
    "# Use numpy.random.exponential() to return a list of numbers exponentially distributed with the mean of 10\n",
    "\n",
    "np.random.exponential(10, 5)"
   ]
  },
  {
   "cell_type": "markdown",
   "metadata": {},
   "source": [
    "Consider np.random.exponential(mean,size) with parameters:\n",
    "- scale: float or array, which in our case is the mean\n",
    "- size: size of our array or list of numbers"
   ]
  },
  {
   "cell_type": "code",
   "execution_count": 98,
   "metadata": {},
   "outputs": [],
   "source": [
    "# Define a generic function to get a list of numbers exponentially distributed with the mean of 1 and 100\n",
    "\n",
    "def exponential_random(mean, size):\n",
    "\n",
    "    # mean is either 1 or 100\n",
    "    # size is the number of the sample\n",
    "\n",
    "    exp_random = np.random.exponential(mean, size)\n",
    "    return exp_random"
   ]
  },
  {
   "cell_type": "code",
   "execution_count": 96,
   "metadata": {},
   "outputs": [
    {
     "data": {
      "text/plain": [
       "array([1.21146953e+00, 1.39966172e+00, 6.75374886e-01, 1.78018951e-01,\n",
       "       2.46399912e-03, 2.37971747e-01, 1.57498106e+00, 2.78470744e+00,\n",
       "       1.09669041e+00, 2.38639224e-01, 1.43698769e+00, 6.43364811e-02,\n",
       "       9.92532154e-01, 3.22907970e-01, 2.95268395e-01, 6.08540314e-01,\n",
       "       1.79029265e+00, 2.47031629e+00, 2.79189400e+00, 2.93815654e+00,\n",
       "       8.00001913e-01, 2.41280544e-01, 6.81054773e-01, 2.08784995e+00,\n",
       "       7.12947426e-01, 9.96323758e-01, 2.12237101e+00, 3.06643203e-01,\n",
       "       1.59379780e+00, 2.34828773e-01, 1.05465136e-01, 9.57148567e-01,\n",
       "       5.56159346e-01, 3.12550532e-01, 5.39571446e-01, 1.22959123e+00,\n",
       "       1.33621334e+00, 2.02068177e+00, 9.04056530e-01, 2.89167624e+00,\n",
       "       5.21849323e-01, 3.11721792e-01, 3.08680212e+00, 9.17575701e-01,\n",
       "       4.45615091e-01, 7.10376426e-01, 9.46729269e-02, 1.98426343e-01,\n",
       "       8.66440134e-01, 8.79760832e-01, 1.55640784e-01, 8.52130409e-01,\n",
       "       1.41039047e-01, 3.06502128e-01, 3.32227865e-01, 1.23129991e+00,\n",
       "       4.98124857e+00, 1.13808767e+00, 1.47522670e+00, 1.75379322e+00,\n",
       "       2.06540307e+00, 4.79061505e-01, 1.01833714e+00, 1.17521776e+00,\n",
       "       9.60586409e-01, 5.53062526e-02, 9.15256551e-01, 1.08036385e+00,\n",
       "       8.29054797e-01, 2.46971025e+00, 1.69495731e+00, 1.67561335e-01,\n",
       "       5.47279156e-01, 1.69996027e+00, 3.15778478e-01, 1.29567359e+00,\n",
       "       7.74961123e-02, 2.99068877e-01, 1.60452315e-01, 1.78278196e+00,\n",
       "       2.17342378e+00, 1.08560787e+00, 1.31786293e+00, 2.27889878e+00,\n",
       "       5.84065813e-01, 2.62131559e+00, 7.32545180e-01, 3.11704251e+00,\n",
       "       3.53808139e-02, 5.65830100e-01, 1.88121178e+00, 1.95888361e+00,\n",
       "       6.35368596e-01, 5.95346425e-01, 1.69341927e+00, 5.39998441e-01,\n",
       "       8.16548091e-01, 4.48024580e-01, 3.40733735e-02, 6.83734750e-01,\n",
       "       7.12311677e-01, 6.67921626e-01, 1.38516804e+00, 2.50393341e+00,\n",
       "       1.36948037e+00, 4.60114555e-01, 1.04986280e+00, 2.46416600e-02,\n",
       "       2.79928950e-01, 1.27064636e+00, 2.22532367e-01, 5.11216507e-01,\n",
       "       1.69359201e-01, 6.99071837e-01, 3.01377101e-01, 7.44152758e-01,\n",
       "       3.31874266e-02, 2.17087648e+00, 7.14303125e-01, 2.06468198e-01,\n",
       "       1.52248257e+00, 4.92665141e+00, 4.41732189e-01, 5.98935851e-02,\n",
       "       3.06448841e-01, 3.28578317e-01, 1.21737146e+00, 3.18392199e+00,\n",
       "       2.32799647e-01, 4.32964034e-02, 1.14345735e+00, 2.00024621e+00,\n",
       "       6.27999218e-01, 4.80177068e-01, 5.93379417e+00, 1.70964957e-01,\n",
       "       8.27489880e-01, 1.02512863e+00, 5.44801991e-02, 1.34986019e-01,\n",
       "       3.40617081e-01, 3.02922203e-01, 5.71344062e-01, 5.31871073e-01,\n",
       "       7.58513623e-01, 6.75238961e-01, 1.42107256e+00, 5.54523869e-01,\n",
       "       3.45602104e-01, 2.48517476e-01, 2.11935038e-01, 3.00055215e-02,\n",
       "       3.37189346e-01, 7.66144660e-02, 1.08827527e+00, 1.35164396e-01,\n",
       "       3.20858925e+00, 4.52438703e-01, 4.63623097e-01, 7.44769169e-01,\n",
       "       6.97264002e-01, 1.15415466e+00, 3.55843127e+00, 1.73645743e-01,\n",
       "       9.40370452e-01, 3.22321917e+00, 6.41640450e-01, 2.48225333e+00,\n",
       "       4.61607117e-01, 1.65740525e+00, 1.09529063e+00, 3.24554136e-01,\n",
       "       1.31035800e-01, 6.11199624e-01, 6.01780672e-01, 3.74353353e-01,\n",
       "       8.12598622e-01, 5.09243127e-01, 1.50242662e-01, 1.10504861e+00,\n",
       "       9.71427954e-01, 1.77518412e+00, 1.20346678e-02, 3.19127953e+00,\n",
       "       3.45748661e-01, 5.61734051e-01, 3.57566257e+00, 9.54753458e-01,\n",
       "       3.62763468e-01, 6.57233430e-01, 2.02290766e+00, 1.32329701e+00,\n",
       "       1.87731536e-01, 1.08056137e+00, 3.73823074e-02, 3.92105879e-01,\n",
       "       9.09683760e-01, 1.33827677e+00, 4.11161205e-01, 4.64025405e-01,\n",
       "       3.95634369e-02, 5.59575485e-01, 1.57705799e+00, 1.63793917e-01,\n",
       "       2.13926920e-02, 1.31761175e+00, 6.00363355e-01, 1.53206133e-01,\n",
       "       2.88211347e+00, 2.05079205e+00, 3.23949740e+00, 2.57238972e+00,\n",
       "       4.32631582e-01, 4.10275077e-01, 1.40897818e+00, 8.51368174e-01,\n",
       "       3.45571428e-01, 1.42198185e+00, 3.50784966e-01, 4.04240476e-01,\n",
       "       3.46189010e-01, 1.91953760e+00, 5.41516255e+00, 5.96368177e-01,\n",
       "       1.69155120e+00, 3.79739324e-01, 3.15988480e-01, 2.39327232e+00,\n",
       "       7.63741270e-02, 7.55351710e-01, 1.55681532e-01, 6.72246545e-02,\n",
       "       4.29047876e-01, 6.84157081e-02, 2.07811926e-01, 2.55705457e-01,\n",
       "       3.23155010e-01, 2.29213209e-01, 1.17773443e+00, 2.20793339e-01,\n",
       "       3.46989481e+00, 9.07122697e-01, 6.33121572e-02, 3.49159618e-01,\n",
       "       2.42169744e-01, 6.67436966e-01, 4.86755475e-02, 1.73193542e+00,\n",
       "       6.06448724e-02, 1.60015118e+00, 1.48279512e+00, 1.97779786e-01,\n",
       "       3.92168567e-01, 1.43489397e+00, 2.17040139e+00, 3.43020804e-01,\n",
       "       5.82714397e-01, 6.15891119e-02, 2.00578085e+00, 3.20890898e-02,\n",
       "       9.91582400e-01, 3.44453689e+00, 2.18876408e-01, 1.93161248e+00,\n",
       "       5.39953501e-01, 4.77151222e-01, 3.41647204e+00, 1.27295326e+00,\n",
       "       4.91730281e-01, 1.80060172e+00, 1.11059094e+00, 1.72004361e+00,\n",
       "       1.92293071e+00, 6.21765180e-01, 2.17809699e+00, 4.46233645e-02,\n",
       "       8.17524951e-01, 3.57182281e-01, 6.91178739e-01, 8.51146099e-01,\n",
       "       4.24619155e-02, 3.16070083e-01, 2.50482829e+00, 5.97627605e-01,\n",
       "       7.78069096e-01, 3.19264746e-01, 1.21630256e+00, 1.27995625e+00,\n",
       "       9.82877728e-01, 1.57247826e-01, 3.49790025e-01, 1.19478101e-01,\n",
       "       6.34452725e-01, 1.11256987e+00, 1.85625791e+00, 4.57560712e-01,\n",
       "       5.48650695e-01, 5.17134388e+00, 6.93628061e-01, 1.09928671e+00,\n",
       "       1.19756552e+00, 5.38213133e-01, 1.11572546e+00, 1.29275752e+00,\n",
       "       6.81535960e-01, 2.21457006e+00, 7.27672655e-01, 7.49319760e-01,\n",
       "       7.29740200e-01, 4.91233116e-01, 1.50349897e+00, 2.91736440e-01,\n",
       "       2.54844608e-01, 2.05612768e+00, 3.28446972e+00, 1.29091009e-01,\n",
       "       1.05772534e+00, 2.43296762e+00, 2.48354644e-01, 1.13381258e+00,\n",
       "       3.77644549e-02, 8.43814753e-01, 8.20435133e-01, 3.66357453e+00,\n",
       "       9.73190280e-01, 4.73779173e+00, 1.96116909e-02, 1.27185095e+00,\n",
       "       4.58267371e+00, 6.80617863e-01, 3.48862833e-01, 6.04438676e-01,\n",
       "       8.95592295e-02, 1.04610999e+00, 2.73186353e-01, 1.74597020e+00,\n",
       "       1.25214294e+00, 1.57373281e+00, 5.50913957e-01, 2.06099338e+00,\n",
       "       6.65267433e-01, 1.16511282e+00, 5.86821991e-02, 4.73156684e-01,\n",
       "       6.32320473e-03, 4.07300645e-01, 1.49568371e+00, 3.00911814e-01,\n",
       "       6.81101687e-01, 6.09121779e-01, 5.73112692e-01, 2.49846133e+00,\n",
       "       7.61868717e-01, 1.43026333e+00, 5.23559373e-01, 8.40452792e-01,\n",
       "       1.49623987e+00, 1.61897559e+00, 2.86098948e-01, 5.37717361e-01,\n",
       "       1.52275343e+00, 9.19554386e-01, 1.57294916e-01, 9.76166990e-01,\n",
       "       1.27395919e-02, 1.36964391e+00, 2.05597094e+00, 2.38613806e-02,\n",
       "       3.96307451e-01, 4.62054404e-02, 1.47541202e+00, 1.21624080e+00,\n",
       "       3.12243894e-01, 4.38173333e-02, 6.90134026e-01, 1.16282701e+00,\n",
       "       1.02013256e+00, 1.38019503e+00, 8.99349259e-01, 5.36853774e-01,\n",
       "       3.04575501e+00, 1.36136715e-01, 2.28546363e+00, 1.56218365e-01,\n",
       "       5.54031188e-01, 4.80436156e-02, 2.03903022e-01, 1.04620479e-02,\n",
       "       2.53829676e+00, 1.87214705e+00, 1.85163912e+00, 5.49111905e-01,\n",
       "       8.76249960e-01, 1.78162046e-01, 1.72784990e+00, 9.70847966e-01,\n",
       "       8.20272876e-01, 1.20692196e+00, 8.75014968e-01, 2.85174245e-01,\n",
       "       2.59164030e-01, 5.40425562e-02, 3.94874288e-01, 1.50850931e+00,\n",
       "       6.56317988e-01, 7.96790466e-01, 1.80794264e-01, 1.82233713e-01,\n",
       "       4.98014058e-01, 1.03823892e+00, 4.91692515e-01, 2.04226307e+00,\n",
       "       6.56913993e-01, 1.78926091e+00, 5.75840667e-01, 4.82407579e-02,\n",
       "       1.68142866e+00, 1.39084400e+00, 2.28197589e+00, 1.47037530e-01,\n",
       "       3.13438866e-01, 7.88062084e-01, 2.07996142e-01, 4.62226542e+00,\n",
       "       5.83894652e-01, 1.31330809e+00, 1.74228909e-01, 1.94241464e+00,\n",
       "       3.90190159e-01, 1.02502635e+00, 8.49925299e-01, 2.64526054e+00,\n",
       "       3.72516500e-01, 2.72648157e-01, 2.14743319e+00, 9.19927756e-02,\n",
       "       1.02328273e+00, 3.61787105e-01, 7.36780408e-01, 1.26232702e-01,\n",
       "       1.55454622e+00, 4.36879131e-01, 3.66891747e+00, 1.34825638e-01,\n",
       "       3.44052819e-01, 1.77117770e+00, 2.68659689e+00, 1.25375377e+00,\n",
       "       2.25264382e-01, 1.43228680e+00, 1.27141615e-01, 8.08503478e-01,\n",
       "       4.07354730e-01, 6.81564580e+00, 1.21093269e+00, 3.84320808e+00,\n",
       "       1.00195464e+00, 3.28131597e-01, 1.02554001e-01, 3.06317061e-01,\n",
       "       2.37564421e-01, 9.37745040e-01, 3.24683914e-02, 4.86672893e-01,\n",
       "       2.44812616e+00, 5.37257170e-01, 3.42189472e+00, 1.14347165e+00,\n",
       "       6.17822847e-01, 3.43944909e+00, 1.59538099e+00, 1.24946940e+00,\n",
       "       3.35660617e-01, 1.89587663e+00, 1.61093544e-01, 5.31693894e-01,\n",
       "       2.23271276e+00, 3.20344622e-01, 1.43271213e+00, 1.56577278e+00,\n",
       "       5.58457848e-01, 2.92153348e+00, 8.47874923e-01, 6.04502400e-01,\n",
       "       1.07259714e+00, 1.69684015e-01, 3.21112082e+00, 1.08151632e+00,\n",
       "       2.42420783e+00, 5.18594418e-01, 3.73899858e+00, 1.54195957e+00,\n",
       "       1.04528700e+00, 1.05443552e+00, 7.94709642e-01, 3.17037557e-01,\n",
       "       1.36192747e-01, 1.43050581e-01, 6.25428721e-01, 9.83901856e-02,\n",
       "       7.26555442e-01, 2.05658113e-01, 1.03903966e+00, 1.59261876e-01,\n",
       "       2.83271084e-02, 6.05346898e-01, 4.09554758e-01, 3.45997762e-01,\n",
       "       9.32023822e-01, 1.38623722e+00, 3.23724587e+00, 6.73118972e-01,\n",
       "       1.33184754e-01, 1.33584883e+00, 3.07970512e-01, 6.96704938e-01,\n",
       "       4.21478630e-01, 7.39275350e-01, 1.31339285e+00, 1.71362574e-01,\n",
       "       2.12425665e+00, 2.77413023e-02, 8.08688975e-02, 1.05878837e+00,\n",
       "       2.96865213e+00, 5.07139750e+00, 8.27552410e-01, 3.48153907e-01,\n",
       "       8.38082355e-01, 1.24128293e+00, 1.39745245e-01, 3.15327034e-01,\n",
       "       1.71206783e-01, 3.18484367e-01, 1.15508528e+00, 1.36622698e+00,\n",
       "       7.48188070e-01, 3.63395671e-01, 3.94293398e-01, 2.38129410e-01,\n",
       "       1.00168475e+00, 6.90754179e-01, 2.66213697e+00, 6.16665827e-01,\n",
       "       7.98252465e-01, 6.77367492e-01, 1.32822107e+00, 2.25275091e+00,\n",
       "       7.82277332e-01, 7.29286489e-02, 1.72849669e+00, 2.49958198e-01,\n",
       "       9.12985702e-01, 7.82722252e-02, 1.40988826e-01, 9.11285076e-01,\n",
       "       3.41952032e-01, 9.89448214e-01, 5.83686860e+00, 1.47265123e+00,\n",
       "       1.46313332e+00, 5.96381078e-01, 3.71313847e+00, 1.20484138e+00,\n",
       "       8.69338096e-01, 3.57309036e-01, 3.85702821e+00, 1.18641341e-02,\n",
       "       3.05790698e-01, 1.71284825e-01, 6.19954473e-01, 9.95045749e-01,\n",
       "       2.74258467e-01, 3.56381533e+00, 7.49089952e-01, 1.61025345e+00,\n",
       "       3.92073361e+00, 2.27982920e+00, 4.63436024e-01, 1.24916569e+00,\n",
       "       6.75392723e-01, 5.64758455e-01, 1.23573215e+00, 9.42508626e-01,\n",
       "       2.07757543e+00, 3.41980564e-01, 3.27959704e-01, 7.81582499e-01,\n",
       "       4.89909233e-01, 1.05146687e+00, 8.23691138e-02, 2.44337201e+00,\n",
       "       3.89673204e-01, 1.29358626e-01, 3.25745174e-01, 4.54910105e-01,\n",
       "       2.23898692e-01, 1.81461813e+00, 4.13581162e-01, 1.94760010e+00,\n",
       "       2.94588651e-01, 1.08481566e-02, 2.84427900e+00, 2.95520647e-01,\n",
       "       2.20430210e+00, 5.47464669e-01, 9.11595464e-01, 8.37263396e-01,\n",
       "       9.78090835e-01, 1.18294326e+00, 1.71516509e+00, 1.02422531e+00,\n",
       "       1.95501060e-01, 1.26461334e-01, 1.36316172e+00, 2.72494762e+00,\n",
       "       7.91573293e-01, 1.24381270e+00, 2.49152735e-01, 4.00505932e+00,\n",
       "       3.78803331e-01, 6.31296089e-01, 6.83134728e-01, 3.33691050e+00,\n",
       "       7.84019967e-01, 3.77945651e+00, 2.16652292e+00, 4.18688364e-02,\n",
       "       1.92826293e-01, 2.77590825e+00, 1.17458619e+00, 1.50769029e+00,\n",
       "       1.17038079e+00, 1.92631305e+00, 6.76145768e-01, 1.86255825e-01,\n",
       "       1.06654562e-02, 1.22625702e+00, 1.95310857e+00, 1.41826137e-01,\n",
       "       1.90231365e-01, 3.57008613e-01, 4.55478746e-03, 2.00074491e+00,\n",
       "       1.39807613e+00, 2.79830326e+00, 1.47608707e+00, 1.56695266e+00,\n",
       "       9.31695573e-01, 8.35310519e-02, 2.93559750e-01, 9.47932928e-01,\n",
       "       7.48836447e-01, 4.54850551e+00, 1.04809057e+00, 8.63117732e-01,\n",
       "       4.62903204e-01, 8.38227671e-01, 9.34001254e-01, 1.53596734e+00,\n",
       "       1.92063354e+00, 1.54556643e+00, 1.25679664e-01, 2.08459743e-01,\n",
       "       1.38397559e+00, 1.14604195e+00, 2.58794361e-01, 3.24782293e-01,\n",
       "       1.20014177e+00, 2.86895154e-01, 9.05627023e-01, 5.77859529e-01,\n",
       "       4.06810375e-01, 1.50906111e-01, 1.25815454e+00, 4.82481140e-01,\n",
       "       9.68953399e-01, 5.46849725e-01, 3.20290651e+00, 5.71898175e-01,\n",
       "       1.37317898e+00, 1.31923371e-01, 1.80509863e-01, 9.22145879e-01,\n",
       "       4.14100712e-01, 1.02792728e-01, 6.04100450e-01, 7.56762909e-01,\n",
       "       1.85748184e+00, 1.87627698e+00, 2.93361674e-01, 5.60201117e-02,\n",
       "       1.24168816e+00, 6.99334899e-02, 1.80158268e+00, 7.96684986e-01,\n",
       "       8.24132311e-01, 2.57435216e+00, 4.48261862e-01, 3.11038705e-01,\n",
       "       7.85417944e-01, 3.63128066e-01, 1.75357330e+00, 3.92565470e-01,\n",
       "       5.66871925e-01, 3.46965622e-01, 5.58030150e-01, 1.27757836e-01,\n",
       "       5.85839258e-01, 1.54263438e-01, 3.96906811e-01, 1.22123645e-01,\n",
       "       1.54379400e+00, 4.24713112e-01, 2.10808857e-01, 2.34305444e-01,\n",
       "       1.08660303e-01, 1.79395482e-01, 6.77801947e-01, 9.75965818e-01,\n",
       "       7.15103481e-01, 2.29595943e-01, 1.02590195e+00, 4.11429840e-01,\n",
       "       7.36182474e-01, 4.37519772e+00, 1.38075196e-01, 2.68953270e-01,\n",
       "       3.34115190e-01, 2.91301845e+00, 6.54129885e-01, 1.15889904e-01,\n",
       "       4.56042623e-01, 1.81920279e+00, 2.49278800e+00, 5.33168393e-01,\n",
       "       2.96250218e-01, 7.15661224e-01, 1.39564352e+00, 5.06358705e-01,\n",
       "       6.67518607e-01, 3.25341653e-01, 1.98124225e+00, 1.19611219e+00,\n",
       "       1.30348775e-01, 6.27659911e-01, 2.89435842e-02, 6.31885534e-01,\n",
       "       9.02847342e-01, 5.49709806e-01, 6.01780441e-01, 6.83138482e-01,\n",
       "       4.16714504e-01, 9.75347414e-01, 1.18832818e+00, 4.39666833e-02,\n",
       "       9.52707195e-01, 1.65274048e-02, 1.98378932e-01, 2.30426985e+00,\n",
       "       6.23582952e-01, 4.52937143e-01, 1.20237800e-01, 1.61677025e+00,\n",
       "       7.39035172e-01, 1.52076465e-02, 1.15063840e+00, 3.13193531e-01,\n",
       "       3.28561618e-02, 1.33314598e+00, 1.04854617e+00, 6.14586245e-02,\n",
       "       7.80330908e-01, 1.62658424e-02, 7.59047875e-01, 1.44445190e+00,\n",
       "       1.12501558e-01, 3.48895955e-01, 1.58307596e-01, 8.05545072e-01,\n",
       "       4.44223087e-01, 4.08779236e-01, 2.69474414e+00, 2.62212570e-01,\n",
       "       1.95689840e+00, 2.17294443e-02, 6.33867269e-01, 7.87305027e-01,\n",
       "       3.76400893e-01, 1.16965698e+00, 3.54407967e-02, 1.49058592e-02,\n",
       "       1.41574541e+00, 1.28677298e+00, 4.26305528e-01, 7.86735722e-01,\n",
       "       1.77275865e-01, 6.37366781e-01, 1.84376300e+00, 4.12902215e-01,\n",
       "       4.79926233e-01, 2.76180459e+00, 5.90300711e+00, 7.12696448e-01,\n",
       "       3.62430798e-01, 9.19940623e-01, 3.92550363e-02, 9.11799838e-02,\n",
       "       8.23748708e-01, 2.06958548e-01, 8.57609241e-01, 1.44135408e+00,\n",
       "       1.68295508e-01, 4.50483840e+00, 4.37201593e-01, 2.04888955e-01,\n",
       "       2.28211932e+00, 1.08247594e-01, 9.39350325e-01, 9.51753269e-01,\n",
       "       1.23138694e-01, 2.97084052e-01, 5.93996717e-01, 9.13301889e-01,\n",
       "       4.72130534e-01, 1.78088581e-01, 1.52210188e+00, 1.55365490e-02,\n",
       "       9.50292501e-01, 3.40382072e-01, 2.11515647e-01, 2.66456420e+00,\n",
       "       2.01977018e+00, 6.40340305e-01, 1.29754109e+00, 3.77171239e+00,\n",
       "       9.99076690e-01, 7.91403509e-01, 2.75381725e-02, 1.99631671e+00,\n",
       "       5.91660545e-01, 1.98004901e+00, 4.35945633e-01, 1.58347259e+00,\n",
       "       3.75244300e-01, 2.63580232e+00, 5.23163880e-01, 1.41108589e+00,\n",
       "       1.80132378e+00, 1.66062211e+00, 5.05449215e-01, 2.07783795e-02,\n",
       "       2.10706982e+00, 5.88143279e-01, 1.45032260e-01, 2.14802665e+00,\n",
       "       6.94742913e-02, 1.50178462e+00, 1.54447744e+00, 1.89165831e+00,\n",
       "       4.18157607e-01, 5.77388859e-01, 7.92506223e-01, 1.40478912e+00,\n",
       "       1.63016362e+00, 8.99649001e-01, 9.13275829e-01, 2.55293741e-01,\n",
       "       2.65775346e+00, 4.99515158e-01, 1.87582160e+00, 1.58952158e+00,\n",
       "       2.11287102e+00, 1.89820152e-01, 1.48532686e-01, 4.35504571e-01,\n",
       "       3.66798601e-01, 3.91549391e-01, 2.58439925e+00, 3.18479959e-01,\n",
       "       1.57288692e+00, 2.23362859e-01, 2.77180715e+00, 1.69958546e+00,\n",
       "       1.49450717e+00, 1.65541571e+00, 1.75927354e-01, 7.77958923e-01,\n",
       "       1.08627534e+00, 2.34357671e-01, 1.80603846e-01, 8.59051228e-02,\n",
       "       1.07174479e+00, 1.65180094e+00, 1.00277655e+00, 3.78515351e-01,\n",
       "       1.89903081e-02, 2.40844968e-01, 2.71116077e-01, 6.31411409e-01,\n",
       "       5.08018176e-02, 2.61523557e+00, 3.50911612e-01, 1.13026431e+00,\n",
       "       4.78167474e-01, 6.36716230e-01, 1.51593530e+00, 2.03913899e+00,\n",
       "       7.05554021e-01, 3.77580748e-01, 4.64063233e-01, 3.43417683e-01,\n",
       "       6.61014127e-03, 2.30025012e+00, 6.93645825e-02, 2.20078784e+00,\n",
       "       2.57217271e+00, 1.23929388e+00, 2.96211896e-01, 1.32990270e+00,\n",
       "       2.06936840e+00, 1.83487068e+00, 3.56619708e-01, 1.12763912e-01,\n",
       "       1.15568568e+00, 6.81886583e-01, 2.18294368e-01, 4.49051816e-01,\n",
       "       1.92467258e+00, 1.60559880e+00, 1.28634884e+00, 5.90175221e-02,\n",
       "       1.03088175e+00, 7.78598053e-01, 1.96723106e+00, 1.26783836e+00,\n",
       "       1.70302189e+00, 4.53543744e-02, 5.40647375e-01, 1.36364467e+00,\n",
       "       1.73832466e-03, 4.67772962e-01, 1.57415534e+00, 2.33288490e+00,\n",
       "       9.36812875e-01, 8.44536696e-01, 1.23980947e+00, 5.19021190e-01,\n",
       "       1.41172074e-01, 6.52425808e-01, 4.68320374e-01, 4.58451415e-01,\n",
       "       5.55420921e-01, 1.11411782e+00, 4.73654161e-01, 5.47689950e-01,\n",
       "       9.80990870e-01, 8.00144791e-01, 4.13543119e-01, 1.76758870e-01,\n",
       "       2.86134234e+00, 7.98308550e-01, 2.34422885e-01, 3.72157533e+00,\n",
       "       3.81857279e-01, 8.25576422e-01, 2.36311097e+00, 6.96997797e-01,\n",
       "       4.70577844e-01, 8.31423555e-02, 3.67959188e-01, 1.28526423e+00,\n",
       "       2.13740350e-01, 5.17995276e-02, 1.33391441e+00, 1.92443271e-01,\n",
       "       1.30621734e+00, 8.65192309e-01, 5.77295050e-02, 2.43047358e-01,\n",
       "       3.91047718e-02, 3.38124623e+00, 3.54516964e+00, 2.58223840e+00,\n",
       "       2.68497374e-01, 2.18856453e-01, 2.99342721e-01, 9.58875904e-01,\n",
       "       2.51436684e-01, 3.68566085e-01, 2.23481031e+00, 1.76346953e-02,\n",
       "       2.55744188e-01, 2.61664412e-01, 1.03157575e+00, 4.70784651e-01,\n",
       "       3.11360937e-01, 5.65006133e-01, 6.74544043e-01, 3.50804331e-01])"
      ]
     },
     "execution_count": 96,
     "metadata": {},
     "output_type": "execute_result"
    }
   ],
   "source": [
    "# Use the generic function to generate a list of numbers with mean 1 and size 1000\n",
    "\n",
    "exp_random1 = exponential_random(1, 1000)\n",
    "exp_random1"
   ]
  },
  {
   "cell_type": "code",
   "execution_count": 97,
   "metadata": {},
   "outputs": [
    {
     "data": {
      "text/plain": [
       "array([1.47728297e+02, 3.37236058e+01, 1.75832985e+02, 4.59500650e+01,\n",
       "       9.15121746e+01, 1.11710232e+02, 2.74281422e+01, 1.08947914e+02,\n",
       "       1.43262965e+02, 2.50058097e+01, 1.89907001e+01, 1.26922803e+02,\n",
       "       4.63728609e+01, 4.53738381e+01, 1.56283722e+01, 1.00746868e+02,\n",
       "       1.24434164e+02, 1.58058271e+02, 3.48022947e+01, 2.42246409e+01,\n",
       "       1.17909989e+01, 4.29147138e+01, 1.88550626e+01, 6.95676405e+01,\n",
       "       1.52431155e+01, 7.18444755e+01, 9.77779767e+00, 7.72171940e+00,\n",
       "       2.95061876e+01, 3.57479092e+02, 1.25508781e+01, 1.27602255e+02,\n",
       "       1.57104858e+02, 9.07072579e+01, 2.65203876e+02, 2.05100910e+02,\n",
       "       1.19842671e+02, 1.91851020e+02, 1.14087816e+02, 2.84174575e+01,\n",
       "       1.69756059e+02, 4.18551550e+01, 6.29325879e+00, 1.50429556e+00,\n",
       "       2.09467036e+02, 7.70003435e+01, 6.16563480e+01, 2.05104474e+02,\n",
       "       1.25233270e+02, 1.16602707e+02, 6.91681314e+01, 1.38096894e+02,\n",
       "       8.55360291e+01, 4.36273217e+01, 7.11302237e+01, 6.63337491e+01,\n",
       "       2.00615518e+01, 3.54493182e+01, 7.91571682e+00, 1.58183397e+02,\n",
       "       8.47809577e+01, 4.19161012e+02, 1.89722188e+01, 2.26258678e+01,\n",
       "       3.85841200e+02, 5.71699928e+01, 5.89983855e+01, 9.15314942e+01,\n",
       "       5.28603236e+00, 3.50459786e+02, 1.12586215e+01, 4.08718256e+02,\n",
       "       9.02161581e+01, 4.24495567e+00, 1.42326069e+01, 1.84638469e+01,\n",
       "       2.24351035e+02, 1.56677164e+01, 7.97047807e+01, 5.05910265e+01,\n",
       "       1.32075423e+01, 4.42968665e+01, 2.85324086e+01, 1.85588655e+02,\n",
       "       9.77238157e+00, 2.44040301e+02, 1.59763011e+02, 3.89226441e+01,\n",
       "       2.40597743e+02, 2.45362100e+01, 7.15579272e+01, 1.56397867e+02,\n",
       "       7.02789648e+01, 5.81161215e+01, 3.56749062e+00, 5.23016681e+01,\n",
       "       2.35237892e+01, 5.36137136e+01, 5.47108972e+01, 2.64706637e+01,\n",
       "       2.24783760e+02, 3.47659353e+01, 8.18148163e+01, 1.62344409e+02,\n",
       "       1.38597924e+02, 3.22789649e+01, 8.06692664e+01, 7.47684223e+01,\n",
       "       5.39685886e+02, 2.11513969e+02, 3.02923404e+01, 3.30692787e+01,\n",
       "       1.03251598e+02, 8.57698777e+01, 9.75700558e+01, 5.96994406e+01,\n",
       "       8.35835897e+01, 7.35571439e+01, 4.31108621e+01, 6.59084899e+02,\n",
       "       1.88369448e+02, 2.16969413e+01, 7.41258909e+01, 1.84690394e+02,\n",
       "       1.58272810e+02, 8.13887790e+00, 5.19741129e+01, 6.31230301e+01,\n",
       "       8.14215263e+01, 1.18505049e+02, 8.45969479e+01, 1.34381776e+02,\n",
       "       3.72138610e+01, 2.99886086e+01, 1.25819376e+02, 1.01353492e+02,\n",
       "       3.04551623e+01, 5.11030905e+00, 2.16738586e+02, 1.89012836e+02,\n",
       "       5.65892919e+01, 5.23282930e+01, 2.45418194e+01, 3.38748020e+02,\n",
       "       1.44753799e+01, 4.33153232e+01, 4.62758398e+01, 2.89820582e+02,\n",
       "       1.68090493e+02, 5.09448187e+02, 5.66900959e+01, 4.56179519e+00,\n",
       "       6.60296091e+01, 5.31579502e+02, 9.12829774e+01, 5.19754783e+01,\n",
       "       2.34739537e+02, 9.73929748e+01, 7.80454065e+01, 5.73210699e+01,\n",
       "       3.86226084e+01, 3.06330558e+01, 1.31595738e+02, 2.11457599e+01,\n",
       "       4.43815027e+01, 8.53011919e+00, 6.33359705e+01, 5.55988366e+01,\n",
       "       1.10234694e+01, 2.25700221e+02, 1.69201641e+01, 1.79791454e+02,\n",
       "       6.22074875e+01, 4.66682753e+02, 5.55079233e+01, 4.35061881e+00,\n",
       "       1.00319988e+01, 5.11271262e+01, 5.23452352e+00, 4.92275202e+01,\n",
       "       1.38821472e+02, 3.61015142e+01, 2.38229363e+01, 9.69752503e+00,\n",
       "       4.58366165e+01, 1.31589737e+02, 8.95958422e+01, 7.38663360e+01,\n",
       "       5.90987313e+01, 7.70167433e+01, 6.05213148e+01, 3.83410338e+01,\n",
       "       1.25898714e+02, 5.64259771e+01, 3.46512259e+01, 7.69186395e+01,\n",
       "       1.17883757e+02, 3.69860490e+01, 2.09208478e+02, 1.19098764e+02,\n",
       "       1.91626380e+02, 2.29453438e+02, 1.69710597e+02, 1.16973303e+02,\n",
       "       2.68737963e+02, 3.53440769e+00, 5.52453900e+00, 9.65991196e+01,\n",
       "       2.55529530e+02, 3.97639449e+00, 3.66022329e+02, 5.35173206e+01,\n",
       "       1.72605952e+02, 3.42582163e+01, 2.26838882e-01, 4.71296748e+01,\n",
       "       1.14971099e+02, 2.47511230e+01, 8.75327101e+01, 8.78585493e+01,\n",
       "       1.44726022e+02, 6.91125909e+01, 1.49454258e+02, 6.21639844e+00,\n",
       "       4.43993423e+01, 2.21305409e+01, 1.90303783e+01, 1.08117274e+01,\n",
       "       3.29129676e+01, 1.25856550e+02, 4.63268137e+01, 1.33266261e+02,\n",
       "       5.16223519e+01, 7.09465146e+02, 1.54877584e+02, 7.83126736e+01,\n",
       "       2.83903997e+01, 1.34608892e+02, 2.66321159e+01, 1.20597579e+01,\n",
       "       1.16690135e+02, 3.06655928e+00, 2.57770363e+01, 7.84498341e+01,\n",
       "       5.27585960e+01, 1.33012214e+02, 2.77286949e+01, 9.42213930e+00,\n",
       "       5.10601751e+01, 1.80423684e+00, 1.59276699e+01, 3.42261428e+01,\n",
       "       7.36132584e+01, 2.62509714e+01, 4.53821334e+00, 4.41722672e+01,\n",
       "       3.47969750e+01, 2.01975490e+02, 1.61276847e+02, 7.95259120e+01,\n",
       "       2.48795547e+02, 5.20795071e+00, 1.96098002e+00, 7.75923665e+01,\n",
       "       1.58270147e+02, 3.53414591e+01, 1.58535238e+01, 1.50713611e+01,\n",
       "       2.67182398e+02, 3.44043616e-01, 1.45819760e+02, 9.09037784e+00,\n",
       "       1.15688211e+01, 5.62250624e+01, 1.65589781e+02, 4.40754965e+01,\n",
       "       2.13739752e+02, 9.83833805e+01, 9.31866382e+01, 2.10389822e+02,\n",
       "       2.60164434e+00, 4.26839104e+01, 9.50408704e+01, 2.53347378e+02,\n",
       "       4.41314346e+02, 6.83818028e+01, 1.61364582e+02, 9.38610302e+01,\n",
       "       2.19009858e+00, 1.22895311e+02, 1.17191289e+02, 1.23408828e+02,\n",
       "       1.88231952e+02, 3.34330215e+02, 2.14127617e+02, 9.46714405e+01,\n",
       "       1.46398190e-02, 1.68308508e+02, 2.18214064e+02, 2.16374826e+02,\n",
       "       1.02787138e+02, 5.40323084e+00, 1.42655233e+02, 1.39751724e+01,\n",
       "       3.79875628e+01, 1.54695941e+02, 5.16650725e+01, 9.73109634e+01,\n",
       "       1.99162663e+02, 1.11089384e+02, 6.61850571e+01, 1.34435696e+02,\n",
       "       1.08476537e+02, 5.76325591e+01, 7.72935477e+01, 1.68715378e+02,\n",
       "       1.47328013e+02, 4.10827227e+01, 1.99915550e+01, 1.57813564e+02,\n",
       "       5.55534847e+00, 1.98922649e+02, 1.06651064e+01, 2.07135880e+02,\n",
       "       8.29119479e+01, 2.15408367e+02, 7.57890838e+01, 1.58907460e+02,\n",
       "       4.53180738e+01, 8.47127779e+01, 1.48850911e+02, 2.53231739e+02,\n",
       "       1.76514150e+02, 9.14764204e+01, 5.80663284e+01, 2.37676015e+02,\n",
       "       1.89594172e+02, 4.55646517e+00, 4.10497732e+01, 1.87679764e+02,\n",
       "       3.72621984e+01, 1.47263204e+01, 2.41179687e+02, 9.22231705e+00,\n",
       "       2.97136032e+01, 1.73641720e+02, 1.83751056e+02, 2.27884697e+02,\n",
       "       1.02682653e+02, 3.10559316e+01, 1.85334017e+02, 1.01339303e+02,\n",
       "       9.57883558e+01, 3.53381915e+00, 2.34098494e+02, 3.56370453e+01,\n",
       "       2.19364898e+02, 3.77897359e+01, 7.87287462e+02, 1.25564374e+02,\n",
       "       1.07779857e+01, 1.79547079e+01, 2.98891308e+01, 1.19553425e+02,\n",
       "       6.73258866e+01, 7.14517124e+01, 1.75998481e+02, 2.16551532e+01,\n",
       "       1.00218631e+02, 7.37802975e+01, 2.87877386e+01, 1.98341867e+02,\n",
       "       3.71915513e+01, 5.35431379e+01, 1.09697405e+02, 4.10826634e+01,\n",
       "       3.03490329e+02, 6.76395039e+01, 1.54736943e+02, 1.94340867e+02,\n",
       "       4.22460633e+01, 1.32953201e+02, 4.40313378e+01, 3.22692891e+02,\n",
       "       1.30138953e+02, 5.98283126e+01, 1.48551556e+02, 1.68977868e+01,\n",
       "       5.52722763e+01, 2.59105211e+01, 1.68723549e+02, 4.16553935e+01,\n",
       "       1.54268245e+01, 1.78671663e+02, 2.17876001e+01, 3.33938864e+02,\n",
       "       1.98258720e+01, 2.22566304e+02, 1.49002435e+01, 4.26471635e+01,\n",
       "       1.05270261e+02, 8.64600342e+01, 1.88861238e+01, 5.64351738e+01,\n",
       "       1.73757978e+02, 1.11218483e+02, 5.84776010e+00, 3.19658032e+00,\n",
       "       8.49732239e+01, 1.62819608e+02, 5.59837811e-01, 2.51478648e+01,\n",
       "       1.62868276e+02, 3.23986493e+02, 2.28670269e+02, 8.95871442e+01,\n",
       "       3.20425662e+02, 5.99861523e+01, 5.10210160e+01, 2.71731157e+01,\n",
       "       2.75264730e+01, 3.45334468e+02, 1.23859747e+01, 3.05491792e+01,\n",
       "       3.06081117e+02, 3.29367232e+02, 7.55343709e+01, 1.31796181e+01,\n",
       "       6.24997750e+01, 5.54809040e+01, 5.62023499e+01, 1.31934607e+02,\n",
       "       1.17308048e+02, 4.59947409e+01, 2.38240670e+02, 1.91156537e+02,\n",
       "       2.95940831e+01, 5.52291773e+00, 4.41126009e+00, 3.21993075e+01,\n",
       "       6.70227207e+01, 1.06191408e+02, 3.62337812e+02, 2.03631679e+01,\n",
       "       4.23755037e+01, 3.59571622e+01, 4.57356250e+02, 2.00824863e+02,\n",
       "       4.72168465e+01, 2.61648134e+00, 2.03137221e+02, 1.29726236e+02,\n",
       "       1.80430460e+02, 5.22379035e+01, 1.23267160e+02, 1.27498461e+02,\n",
       "       1.88805624e+02, 1.44095875e+02, 2.15563113e+02, 1.40495702e+02,\n",
       "       5.74752739e+01, 1.15223806e+02, 2.84715451e+01, 1.08767583e+02,\n",
       "       1.51598752e+01, 3.92636668e+01, 1.36484034e+02, 2.54725777e+02,\n",
       "       5.57172990e+01, 1.44078265e+02, 1.95193868e+02, 6.34031416e+01,\n",
       "       9.47560183e+01, 3.12626852e+01, 2.37758697e+02, 1.20715651e+01,\n",
       "       7.07266309e+01, 6.51019530e+01, 1.36772802e+02, 2.63814051e+02,\n",
       "       6.99652008e+00, 5.90423258e+01, 9.96239301e+01, 6.45274652e+01,\n",
       "       1.08725317e+01, 2.86497576e+02, 4.98235786e+01, 1.23343314e+02,\n",
       "       4.55089534e+01, 2.54555710e+02, 5.28432790e+01, 7.23293197e+01,\n",
       "       2.11428232e+02, 7.18343414e+01, 1.84583542e+02, 1.22826808e+02,\n",
       "       3.98233796e+01, 6.54606762e+01, 1.21096087e+02, 1.18371110e+02,\n",
       "       7.04055982e+01, 1.05733711e+02, 6.14960600e+01, 6.44086937e+01,\n",
       "       1.20898912e+02, 7.63622103e+01, 4.93880385e+01, 2.15076059e+02,\n",
       "       4.93898405e+01, 1.53537504e+02, 1.39957765e+02, 3.82975562e+02,\n",
       "       9.76530336e+01, 1.28332114e+01, 7.19672651e+00, 3.21446326e+02,\n",
       "       1.22930398e+02, 4.85999110e+01, 3.53857718e+01, 7.50368016e+01,\n",
       "       5.63167742e+01, 1.24348262e+01, 1.98476581e+01, 9.93976610e+01,\n",
       "       2.96963070e+00, 6.65594972e+01, 2.83745779e+02, 1.81848257e+02,\n",
       "       1.07747528e+01, 8.47368657e+01, 3.74466451e+01, 1.20987107e+02,\n",
       "       2.92503387e+02, 3.97153194e+01, 1.21545647e+01, 9.46225931e+01,\n",
       "       3.84096659e+02, 4.23522915e+01, 1.52847971e+02, 9.57714672e+01,\n",
       "       7.74392626e+00, 2.67295985e+02, 3.59927731e+01, 6.86663082e+01,\n",
       "       1.68420532e+02, 2.82737057e+02, 6.62430337e+01, 7.80242547e+01,\n",
       "       6.09414418e+01, 5.49410183e+01, 2.37022411e+01, 2.09526148e+02,\n",
       "       8.85324974e+01, 5.10944567e+01, 2.29686670e+01, 4.04097347e+02,\n",
       "       4.95498077e+01, 3.78696697e+01, 5.23731181e+01, 6.23626622e+01,\n",
       "       2.07940217e+02, 1.61829369e+02, 2.59456443e+01, 3.71498602e+01,\n",
       "       4.27258030e+01, 5.83303272e+02, 5.94240348e+02, 9.50759384e+00,\n",
       "       1.67571473e+00, 2.53076953e+00, 3.51087537e+01, 1.03274560e+02,\n",
       "       3.32788296e+02, 3.31038502e+01, 1.72702736e+01, 2.79675963e+01,\n",
       "       2.75720786e+01, 1.82809305e+01, 1.36954223e+01, 5.31126059e+01,\n",
       "       1.13797370e+01, 1.70492684e+01, 1.15125743e+02, 1.76629884e+01,\n",
       "       1.37159040e+02, 2.35266995e+02, 2.95119272e+01, 9.26533112e+01,\n",
       "       3.66194478e+01, 3.03784874e+01, 1.05856181e+01, 4.39339126e+02,\n",
       "       6.45531549e+01, 9.42844366e+01, 1.37263114e+02, 3.89536267e+01,\n",
       "       1.30788144e+02, 2.38003767e+02, 3.11667908e+01, 3.43119005e+01,\n",
       "       4.33304733e+01, 1.42814674e+02, 1.94285589e+01, 1.36010941e+02,\n",
       "       2.36828305e+02, 6.10879509e+01, 3.51944346e+02, 1.35816577e+02,\n",
       "       2.58695376e+02, 2.20373235e+02, 7.58137845e+01, 2.17841129e+01,\n",
       "       4.48783870e+01, 1.88572258e+02, 5.40122505e+01, 8.25999509e+01,\n",
       "       1.87185662e+02, 1.26811929e+02, 1.97530233e+02, 1.14290898e+01,\n",
       "       5.06861089e+01, 1.89055945e+01, 1.95025918e+02, 1.58249394e+01,\n",
       "       2.25207844e+02, 3.34331524e+01, 3.53337001e+00, 1.46385702e+02,\n",
       "       7.11559231e+01, 9.74778398e+00, 1.24056150e+01, 4.02456190e+01,\n",
       "       3.18878575e+02, 1.30195786e+02, 1.98583821e+01, 2.12644792e+01,\n",
       "       4.76852028e+01, 2.11365132e+02, 1.60823325e+02, 4.38984060e+02,\n",
       "       2.64926960e+00, 7.42950529e+01, 4.40729883e+01, 2.97623835e+02,\n",
       "       1.26637636e+02, 9.52908905e+01, 2.26785546e+00, 2.99867933e+02,\n",
       "       5.83573499e+01, 1.53263597e+02, 7.27309452e+01, 1.76145321e+02,\n",
       "       2.80695522e+02, 1.69091026e+01, 5.48100259e+01, 1.18341326e+02,\n",
       "       1.24757229e+02, 2.05411359e+01, 1.60846053e+02, 3.54378873e+01,\n",
       "       7.48185357e+01, 2.00962426e+02, 1.25048060e+01, 2.80636853e+00,\n",
       "       2.86423139e+01, 1.23082095e+02, 1.65149812e+02, 5.68380857e+01,\n",
       "       4.03946181e+01, 3.93448647e+01, 2.02016804e+02, 1.04326979e+02,\n",
       "       2.45528538e+01, 5.99671638e+01, 1.07328152e+02, 6.70120551e+01,\n",
       "       6.38385737e+01, 7.76012495e+00, 9.09587918e+00, 1.19083468e+02,\n",
       "       3.87366293e+01, 2.47881674e+02, 3.30852773e+02, 7.14542804e+01,\n",
       "       5.11203354e+01, 1.68257721e+02, 6.31562759e+01, 5.26228967e+01,\n",
       "       1.46471121e+02, 1.50511385e+01, 4.21662146e+01, 1.28573341e+02,\n",
       "       2.78044101e+01, 3.83506877e+01, 6.62591663e+01, 3.74408320e+01,\n",
       "       6.39696119e+01, 6.21795483e+01, 4.55470545e+01, 3.13743060e+02,\n",
       "       4.11920923e+01, 1.79108600e+01, 2.15129863e+02, 2.18716849e+02,\n",
       "       1.07625656e+02, 5.46457096e-01, 2.24536551e+02, 8.11869076e+01,\n",
       "       1.76068233e+02, 1.67342633e+01, 7.13679500e+00, 1.90870703e+02,\n",
       "       5.04637522e+01, 5.10977418e+00, 2.28441996e+01, 4.34626650e+01,\n",
       "       1.15945039e+02, 4.57511447e+00, 8.88595158e+01, 3.22162175e+01,\n",
       "       2.88753680e+01, 6.27168582e+01, 4.49233564e+01, 1.15605186e+01,\n",
       "       2.65406898e+02, 2.09358631e+02, 1.86473336e+02, 2.68444940e+01,\n",
       "       4.26550248e+01, 1.46501218e+02, 5.63827905e+01, 1.93147156e+01,\n",
       "       8.71580909e+00, 1.63782246e+01, 9.76711582e+00, 1.83381694e+02,\n",
       "       3.53975483e+02, 4.34765862e+01, 1.16231271e+02, 3.81311465e+02,\n",
       "       2.52331733e+02, 9.98077348e+01, 3.99185495e+01, 1.30050307e+02,\n",
       "       1.03253120e+02, 1.71860178e+02, 3.00078031e+01, 3.18406900e+02,\n",
       "       3.34500554e+02, 1.64167862e+02, 2.52171249e+01, 2.10512323e+01,\n",
       "       1.89738984e+02, 2.24572640e+02, 8.26600505e+01, 3.31724425e+02,\n",
       "       8.55386102e+01, 1.30474301e+02, 1.29196138e+02, 8.71507898e+01,\n",
       "       3.03503666e-01, 2.87450813e+01, 2.33794640e+02, 5.63000062e+01,\n",
       "       5.45969266e+00, 7.06421892e+01, 4.24991593e+02, 9.71195125e+01,\n",
       "       6.61025486e+01, 1.27268014e+02, 1.72060399e+01, 3.00624243e+01,\n",
       "       4.27725312e+01, 1.11510855e+02, 3.55013509e+01, 7.70826150e+01,\n",
       "       6.69056595e+01, 2.39488622e+01, 6.20567154e+01, 1.13106891e+02,\n",
       "       6.62129864e+01, 5.77125092e+01, 6.64502109e+01, 1.33995086e+02,\n",
       "       2.21642624e+02, 1.60397989e+00, 4.59507403e+01, 3.93684563e+01,\n",
       "       1.07545559e+02, 9.17616115e+01, 1.23943801e+02, 1.48162657e+02,\n",
       "       2.16990805e+01, 8.34001286e+01, 6.75887579e+00, 1.36599026e+02,\n",
       "       9.23408050e+00, 2.53643887e+01, 4.44815270e+01, 1.21070851e+02,\n",
       "       3.59849093e+02, 1.40407143e+02, 3.37289927e+02, 1.05124423e+02,\n",
       "       3.01366936e+01, 2.28150835e+02, 4.03112350e+01, 9.18134760e+01,\n",
       "       7.25217308e+01, 1.82717748e+02, 2.71013695e+02, 1.38230482e+02,\n",
       "       8.68424878e+00, 3.31057271e+01, 1.72919558e+01, 8.27791631e+01,\n",
       "       2.27731594e+01, 6.24329196e+01, 9.38644710e+01, 1.04558270e+02,\n",
       "       2.51439091e+00, 4.47970462e+01, 5.18937649e+01, 2.45414303e+02,\n",
       "       1.46134455e+02, 9.44996249e+01, 8.99233487e+01, 4.14724842e+01,\n",
       "       5.04807553e+01, 4.52078960e+01, 5.36243807e+01, 2.92450209e+01,\n",
       "       1.14094264e+02, 3.11583243e+01, 3.36440660e+02, 1.23815290e+02,\n",
       "       5.55150001e+01, 1.29834342e+01, 1.56672885e+02, 5.61910368e+01,\n",
       "       1.76502756e+02, 6.51613275e+02, 1.58916971e+01, 1.10232155e+02,\n",
       "       2.35758684e+02, 5.10888750e+01, 1.74671731e+01, 1.96698946e+02,\n",
       "       1.12210829e+02, 1.40220384e+01, 1.30413656e+01, 2.03023220e+01,\n",
       "       4.22382237e+01, 3.86816268e+01, 3.23944283e+01, 1.22623757e+02,\n",
       "       1.99409402e+01, 1.42228734e+02, 2.19000972e+02, 1.19722506e+02,\n",
       "       5.05605122e+01, 2.80302772e+00, 8.58917269e+01, 2.74431694e+01,\n",
       "       5.17985595e+01, 4.80158914e+01, 1.26551893e+02, 6.46872213e+01,\n",
       "       1.73813919e+01, 2.18363280e+01, 9.77317401e+01, 4.58011224e+01,\n",
       "       2.75217094e+02, 4.70266253e+01, 1.06472397e+02, 2.07050764e+02,\n",
       "       2.98607088e+02, 1.72514595e+02, 2.34006122e+00, 4.83424014e+01,\n",
       "       1.51878561e+00, 1.61405908e+02, 1.78135910e+01, 3.10198112e+01,\n",
       "       4.95842245e+01, 1.32879125e+02, 5.96931231e+01, 9.77476525e+01,\n",
       "       2.24922427e+02, 8.76561785e-01, 1.00642267e+02, 7.12212592e+01,\n",
       "       4.71046029e+00, 3.48901216e+02, 7.61174427e+00, 5.78777561e+01,\n",
       "       2.37251807e+01, 9.06924035e+01, 1.53484998e+02, 4.89281237e+01,\n",
       "       7.76141818e+01, 4.17677474e+01, 4.54903820e+01, 1.33907523e+01,\n",
       "       1.24224240e+02, 2.22447145e+01, 1.47871306e+01, 7.66619717e+01,\n",
       "       2.08246005e+01, 3.40293085e+01, 5.06497382e+01, 4.56193990e+01,\n",
       "       7.32856482e+00, 1.34220401e+01, 4.26770461e+02, 3.17960323e+00,\n",
       "       1.85751941e+01, 8.27681239e+01, 5.31658385e+01, 2.36832861e+02,\n",
       "       1.27168617e+02, 6.52747289e+00, 3.26435459e+02, 7.85156508e+01,\n",
       "       5.91862909e+00, 5.47528430e+01, 8.16941433e+01, 1.64978652e+02,\n",
       "       4.60539786e+01, 1.23165167e+02, 2.59378322e+01, 1.42161383e+01,\n",
       "       1.65091798e+02, 3.33085890e+01, 5.50568536e+01, 1.80793635e+02,\n",
       "       1.26587269e+02, 3.60415142e+01, 6.85957121e+00, 6.22931985e+01,\n",
       "       1.48878713e+02, 1.52404232e+01, 1.84233224e+02, 2.53519714e+02,\n",
       "       6.13775885e+01, 2.09472505e+02, 3.23757829e+01, 1.05622860e+02,\n",
       "       6.58544894e+00, 2.88756816e+02, 3.61842749e+01, 1.71938186e+01,\n",
       "       2.90587889e+00, 1.64713290e+02, 1.00884291e+01, 2.66726346e+01,\n",
       "       8.54642063e+01, 8.51138656e+01, 3.14633485e+01, 1.58693775e+01,\n",
       "       1.43525123e+00, 1.91892142e+02, 3.07671368e+02, 7.93865686e+00,\n",
       "       4.36629375e+01, 4.86921842e+01, 6.92148892e+01, 2.79796040e+01,\n",
       "       1.86856923e+02, 8.65482284e+01, 1.99541521e+02, 1.61956780e+02,\n",
       "       2.21677002e+02, 3.63481031e+01, 5.61781011e+01, 6.45667033e+01,\n",
       "       9.68072356e+01, 6.36081401e+01, 4.61404662e+00, 2.64667082e+01,\n",
       "       9.30762849e+01, 7.16543549e+01, 5.96703661e+01, 2.18796705e+02,\n",
       "       1.45923918e+01, 1.12674394e+01, 1.48829386e+02, 6.55817545e+01,\n",
       "       1.11363807e+02, 3.70930153e+01, 2.30597346e+02, 1.74592343e+02,\n",
       "       2.22756520e+01, 8.56438767e+01, 4.35336877e+01, 3.87731833e+00,\n",
       "       9.73937576e+00, 6.67903676e-01, 1.79858047e+02, 8.02645391e+00])"
      ]
     },
     "execution_count": 97,
     "metadata": {},
     "output_type": "execute_result"
    }
   ],
   "source": [
    "# Use the generic function to generate a list of numbers with mean 100 and size 1000\n",
    "\n",
    "exp_random2 = exponential_random(100, 1000)\n",
    "exp_random2"
   ]
  },
  {
   "cell_type": "code",
   "execution_count": 102,
   "metadata": {},
   "outputs": [
    {
     "data": {
      "image/png": "[encoded data removed]",
      "text/plain": [
       "<Figure size 432x288 with 2 Axes>"
      ]
     },
     "metadata": {
      "needs_background": "light"
     },
     "output_type": "display_data"
    }
   ],
   "source": [
    "# Create a subplot of 2 columns and 1 row in order to plot 2 charts \n",
    "\n",
    "fig,ax = plt.subplots(ncols=2)\n",
    "\n",
    "x = exponential_random(1, 1000)\n",
    "ax[0].hist(x, bins=100)\n",
    "\n",
    "y = exponential_random(100, 1000)\n",
    "ax[1].hist(y, bins=100)\n",
    "\n",
    "plt.show()"
   ]
  },
  {
   "cell_type": "markdown",
   "metadata": {},
   "source": [
    "How are the two distributions different?"
   ]
  },
  {
   "cell_type": "code",
   "execution_count": null,
   "metadata": {},
   "outputs": [],
   "source": [
    "# your answer here:\n"
   ]
  },
  {
   "cell_type": "markdown",
   "metadata": {},
   "source": [
    "## Exponential Distribution of Real Data\n",
    "\n",
    "Suppose that the amount of time one spends in a bank is exponentially distributed with mean as 10 minutes (i.e. λ = 1/10). What is the probability that a customer will spend less than fifteen minutes in the bank? \n",
    "\n",
    "Write a code in python to solve this problem"
   ]
  },
  {
   "cell_type": "code",
   "execution_count": null,
   "metadata": {},
   "outputs": [],
   "source": [
    "# your answer here\n",
    "# Hint: This is same as saying P(x<15)\n"
   ]
  },
  {
   "cell_type": "code",
   "execution_count": 108,
   "metadata": {},
   "outputs": [],
   "source": [
    "from scipy.stats import expon\n",
    "\n",
    "# rate = 1/10\n",
    "\n",
    "lambda_inv = 10/1 # how much time on average, IN MINUTES, it needs to pass until a client leaves a bank"
   ]
  },
  {
   "cell_type": "code",
   "execution_count": 110,
   "metadata": {},
   "outputs": [
    {
     "name": "stdout",
     "output_type": "stream",
     "text": [
      "0.7534030360583935\n"
     ]
    }
   ],
   "source": [
    "exp_dist = expon(scale = lambda_inv)\n",
    "\n",
    "print(exp_dist.cdf(14)) # cdf is inclusive"
   ]
  },
  {
   "cell_type": "markdown",
   "metadata": {},
   "source": [
    "What is the probability that the customer will spend more than 15 minutes"
   ]
  },
  {
   "cell_type": "code",
   "execution_count": 111,
   "metadata": {},
   "outputs": [
    {
     "name": "stdout",
     "output_type": "stream",
     "text": [
      "0.22313016014842982\n",
      "0.2231301601484298\n"
     ]
    }
   ],
   "source": [
    "print(exp_dist.sf(15)) # sf is exclusive \n",
    "\n",
    "print(1 - exp_dist.cdf(15))\n"
   ]
  },
  {
   "cell_type": "markdown",
   "metadata": {},
   "source": [
    "We want to figure out with the pdf what is the value (which is in between 0.50 and 0.95), or time invested in a bank before leaving, to recommend to our users when going to a bank\n",
    "- Risk avoidance = higher probability with pdf, e.g., 90%, 95%\n",
    "- Risk willingness = lower probabilitu with pdf, e.g., 50%, 60%"
   ]
  },
  {
   "cell_type": "code",
   "execution_count": 123,
   "metadata": {},
   "outputs": [
    {
     "data": {
      "text/plain": [
       "23.02585092994046"
      ]
     },
     "execution_count": 123,
     "metadata": {},
     "output_type": "execute_result"
    }
   ],
   "source": [
    "exp_dist.ppf(0.90) #The result says that our client is 90% likely to wait more than 23 minutes before s/he can leave the bank"
   ]
  },
  {
   "cell_type": "code",
   "execution_count": 124,
   "metadata": {},
   "outputs": [
    {
     "data": {
      "text/plain": [
       "6.931471805599453"
      ]
     },
     "execution_count": 124,
     "metadata": {},
     "output_type": "execute_result"
    }
   ],
   "source": [
    "exp_dist.ppf(0.50) #The result says that our client is 50% likely to wait almost 7 minutes before s/he can leave the bank"
   ]
  },
  {
   "cell_type": "code",
   "execution_count": null,
   "metadata": {},
   "outputs": [],
   "source": []
  }
 ],
 "metadata": {
  "kernelspec": {
   "display_name": "Python 3",
   "language": "python",
   "name": "python3"
  },
  "language_info": {
   "codemirror_mode": {
    "name": "ipython",
    "version": 3
   },
   "file_extension": ".py",
   "mimetype": "text/x-python",
   "name": "python",
   "nbconvert_exporter": "python",
   "pygments_lexer": "ipython3",
   "version": "3.9.12"
  }
 },
 "nbformat": 4,
 "nbformat_minor": 2
}
